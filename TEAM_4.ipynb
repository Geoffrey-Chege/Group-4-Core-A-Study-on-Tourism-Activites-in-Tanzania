{
  "nbformat": 4,
  "nbformat_minor": 0,
  "metadata": {
    "colab": {
      "name": "TEAM 4.ipynb",
      "provenance": [],
      "collapsed_sections": [],
      "include_colab_link": true
    },
    "kernelspec": {
      "name": "python3",
      "display_name": "Python 3"
    },
    "language_info": {
      "name": "python"
    }
  },
  "cells": [
    {
      "cell_type": "markdown",
      "metadata": {
        "id": "view-in-github",
        "colab_type": "text"
      },
      "source": [
        "<a href=\"https://colab.research.google.com/github/maronga/Group-4-Core-A-Study-on-Tourism-Activites-in-Tanzania/blob/main/TEAM_4.ipynb\" target=\"_parent\"><img src=\"https://colab.research.google.com/assets/colab-badge.svg\" alt=\"Open In Colab\"/></a>"
      ]
    },
    {
      "cell_type": "markdown",
      "source": [
        "**Defining the Question** \n",
        "     \n",
        "In Tanzania, the tourism sector is second in ranking in contributing to the national income. However, during the times of COVID, the industry took a huge blow due to travel restrictions. Now as countries are opening up, Tanzania should expect tourists to come back. The aim of this study is to give insight on the main tourism activity in Tanzania to invest more resources in.\n"
      ],
      "metadata": {
        "id": "ZRbcKd_vUv-k"
      }
    },
    {
      "cell_type": "markdown",
      "source": [
        "**Defining the Metric of Success**\n",
        "\n",
        "Successfully performing Exploratory Data Analysis, Univariate, Bivariate Analysis,Create Visualizations Testing a Hypothesis and Challenging the solution."
      ],
      "metadata": {
        "id": "ZIFOeurqVGdV"
      }
    },
    {
      "cell_type": "markdown",
      "source": [
        "**Understanding the Context**\n",
        "\n",
        "\n",
        "Tanzania’s tourism sector generated USD 1 billion in revenues in 2020 versus 2.6 billion in 2019, being severely affected by the Covid-19 pandemic and its impact on international travel. The sector’s contribution to GDP fell from 107% in 2019 to 5.3% in 2020. International tourist arrivals reached 620,900 in 2020, less than half the 1.5 million arrivals in 2019, the 1.4 million in 2018, and the 1.3 million in 2017."
      ],
      "metadata": {
        "id": "VKkauS5QVJZq"
      }
    },
    {
      "cell_type": "markdown",
      "source": [
        "**Recording the Experimental Design**\n",
        "\n",
        "\n",
        "Below are the steps we took to implement this solution\n",
        "\n",
        "\n",
        "1.   Business Understanding:This sheds light to the context of the research question we are trying to answer ensures we keep the focus during the data analysis so that we meet the intended objectives\n",
        "2.   Reading the data: Read the data with the aim to understand the content in our dataset\n",
        "3. Checking our data: We perfomed this step so that we could get details about our dataset like number of rows and columns and null values\n",
        "4. Data cleaning: We performed the data cleaning and preparation to make our data ready for analysis\n",
        "5. Challenged the solution"
      ],
      "metadata": {
        "id": "9PT20mCbVz_h"
      }
    },
    {
      "cell_type": "markdown",
      "source": [
        "**Data Relevance**\n",
        "\n",
        "\n",
        "The source of our data is [Zindi](https://zindi.africa/competitions/tanzania-tourism-prediction/data)\n",
        "\n",
        "The surveys were\n",
        "conducted recently, hence the data is current and has individual demograpgics that will\n",
        "support us in assessing factors that drive financial inclusion."
      ],
      "metadata": {
        "id": "KyZ38lb0V_kw"
      }
    },
    {
      "cell_type": "markdown",
      "source": [
        "#1. Importing our libraries"
      ],
      "metadata": {
        "id": "pzyoNp-iYURA"
      }
    },
    {
      "cell_type": "code",
      "execution_count": null,
      "metadata": {
        "id": "2qfZyySawcn-"
      },
      "outputs": [],
      "source": [
        "# Import relevant libraries\n",
        "import pandas as pd\n",
        "import numpy as np\n",
        "import seaborn as sns\n",
        "import matplotlib.pyplot as plt"
      ]
    },
    {
      "cell_type": "markdown",
      "source": [
        "#**1.1 Reading the Dataset from our CSV file**"
      ],
      "metadata": {
        "id": "lSNzRsJ6ZHMl"
      }
    },
    {
      "cell_type": "code",
      "source": [
        "# Load our dataset and view the first five columns\n",
        "tourism = pd.read_csv('/content/Tourism.csv')\n",
        "tourism.head()"
      ],
      "metadata": {
        "id": "DY6xnmfqYmil",
        "colab": {
          "base_uri": "https://localhost:8080/",
          "height": 477
        },
        "outputId": "cd47b494-0e68-45fc-d264-472430c474ce"
      },
      "execution_count": null,
      "outputs": [
        {
          "output_type": "execute_result",
          "data": {
            "text/html": [
              "\n",
              "  <div id=\"df-d2eab90f-e281-4604-9ee1-49ec0d3e2460\">\n",
              "    <div class=\"colab-df-container\">\n",
              "      <div>\n",
              "<style scoped>\n",
              "    .dataframe tbody tr th:only-of-type {\n",
              "        vertical-align: middle;\n",
              "    }\n",
              "\n",
              "    .dataframe tbody tr th {\n",
              "        vertical-align: top;\n",
              "    }\n",
              "\n",
              "    .dataframe thead th {\n",
              "        text-align: right;\n",
              "    }\n",
              "</style>\n",
              "<table border=\"1\" class=\"dataframe\">\n",
              "  <thead>\n",
              "    <tr style=\"text-align: right;\">\n",
              "      <th></th>\n",
              "      <th>ID</th>\n",
              "      <th>country</th>\n",
              "      <th>age_group</th>\n",
              "      <th>travel_with</th>\n",
              "      <th>total_female</th>\n",
              "      <th>total_male</th>\n",
              "      <th>purpose</th>\n",
              "      <th>main_activity</th>\n",
              "      <th>info_source</th>\n",
              "      <th>tour_arrangement</th>\n",
              "      <th>package_transport_int</th>\n",
              "      <th>package_accomodation</th>\n",
              "      <th>package_food</th>\n",
              "      <th>package_transport_tz</th>\n",
              "      <th>package_sightseeing</th>\n",
              "      <th>package_guided_tour</th>\n",
              "      <th>package_insurance</th>\n",
              "      <th>night_mainland</th>\n",
              "      <th>night_zanzibar</th>\n",
              "      <th>payment_mode</th>\n",
              "      <th>first_trip_tz</th>\n",
              "      <th>most_impressing</th>\n",
              "      <th>total_cost</th>\n",
              "    </tr>\n",
              "  </thead>\n",
              "  <tbody>\n",
              "    <tr>\n",
              "      <th>0</th>\n",
              "      <td>tour_0</td>\n",
              "      <td>SWIZERLAND</td>\n",
              "      <td>45-64</td>\n",
              "      <td>Friends/Relatives</td>\n",
              "      <td>1.0</td>\n",
              "      <td>1.0</td>\n",
              "      <td>Leisure and Holidays</td>\n",
              "      <td>Wildlife tourism</td>\n",
              "      <td>Friends, relatives</td>\n",
              "      <td>Independent</td>\n",
              "      <td>No</td>\n",
              "      <td>No</td>\n",
              "      <td>No</td>\n",
              "      <td>No</td>\n",
              "      <td>No</td>\n",
              "      <td>No</td>\n",
              "      <td>No</td>\n",
              "      <td>13</td>\n",
              "      <td>0</td>\n",
              "      <td>Cash</td>\n",
              "      <td>No</td>\n",
              "      <td>Friendly People</td>\n",
              "      <td>674602.5</td>\n",
              "    </tr>\n",
              "    <tr>\n",
              "      <th>1</th>\n",
              "      <td>tour_10</td>\n",
              "      <td>UNITED KINGDOM</td>\n",
              "      <td>25-44</td>\n",
              "      <td>NaN</td>\n",
              "      <td>1.0</td>\n",
              "      <td>0.0</td>\n",
              "      <td>Leisure and Holidays</td>\n",
              "      <td>Cultural tourism</td>\n",
              "      <td>others</td>\n",
              "      <td>Independent</td>\n",
              "      <td>No</td>\n",
              "      <td>No</td>\n",
              "      <td>No</td>\n",
              "      <td>No</td>\n",
              "      <td>No</td>\n",
              "      <td>No</td>\n",
              "      <td>No</td>\n",
              "      <td>14</td>\n",
              "      <td>7</td>\n",
              "      <td>Cash</td>\n",
              "      <td>Yes</td>\n",
              "      <td>Wonderful Country, Landscape, Nature</td>\n",
              "      <td>3214906.5</td>\n",
              "    </tr>\n",
              "    <tr>\n",
              "      <th>2</th>\n",
              "      <td>tour_1000</td>\n",
              "      <td>UNITED KINGDOM</td>\n",
              "      <td>25-44</td>\n",
              "      <td>Alone</td>\n",
              "      <td>0.0</td>\n",
              "      <td>1.0</td>\n",
              "      <td>Visiting Friends and Relatives</td>\n",
              "      <td>Cultural tourism</td>\n",
              "      <td>Friends, relatives</td>\n",
              "      <td>Independent</td>\n",
              "      <td>No</td>\n",
              "      <td>No</td>\n",
              "      <td>No</td>\n",
              "      <td>No</td>\n",
              "      <td>No</td>\n",
              "      <td>No</td>\n",
              "      <td>No</td>\n",
              "      <td>1</td>\n",
              "      <td>31</td>\n",
              "      <td>Cash</td>\n",
              "      <td>No</td>\n",
              "      <td>Excellent Experience</td>\n",
              "      <td>3315000.0</td>\n",
              "    </tr>\n",
              "    <tr>\n",
              "      <th>3</th>\n",
              "      <td>tour_1002</td>\n",
              "      <td>UNITED KINGDOM</td>\n",
              "      <td>25-44</td>\n",
              "      <td>Spouse</td>\n",
              "      <td>1.0</td>\n",
              "      <td>1.0</td>\n",
              "      <td>Leisure and Holidays</td>\n",
              "      <td>Wildlife tourism</td>\n",
              "      <td>Travel, agent, tour operator</td>\n",
              "      <td>Package Tour</td>\n",
              "      <td>No</td>\n",
              "      <td>Yes</td>\n",
              "      <td>Yes</td>\n",
              "      <td>Yes</td>\n",
              "      <td>Yes</td>\n",
              "      <td>Yes</td>\n",
              "      <td>No</td>\n",
              "      <td>11</td>\n",
              "      <td>0</td>\n",
              "      <td>Cash</td>\n",
              "      <td>Yes</td>\n",
              "      <td>Friendly People</td>\n",
              "      <td>7790250.0</td>\n",
              "    </tr>\n",
              "    <tr>\n",
              "      <th>4</th>\n",
              "      <td>tour_1004</td>\n",
              "      <td>CHINA</td>\n",
              "      <td>Jan-24</td>\n",
              "      <td>NaN</td>\n",
              "      <td>1.0</td>\n",
              "      <td>0.0</td>\n",
              "      <td>Leisure and Holidays</td>\n",
              "      <td>Wildlife tourism</td>\n",
              "      <td>Travel, agent, tour operator</td>\n",
              "      <td>Independent</td>\n",
              "      <td>No</td>\n",
              "      <td>No</td>\n",
              "      <td>No</td>\n",
              "      <td>No</td>\n",
              "      <td>No</td>\n",
              "      <td>No</td>\n",
              "      <td>No</td>\n",
              "      <td>7</td>\n",
              "      <td>4</td>\n",
              "      <td>Cash</td>\n",
              "      <td>Yes</td>\n",
              "      <td>No comments</td>\n",
              "      <td>1657500.0</td>\n",
              "    </tr>\n",
              "  </tbody>\n",
              "</table>\n",
              "</div>\n",
              "      <button class=\"colab-df-convert\" onclick=\"convertToInteractive('df-d2eab90f-e281-4604-9ee1-49ec0d3e2460')\"\n",
              "              title=\"Convert this dataframe to an interactive table.\"\n",
              "              style=\"display:none;\">\n",
              "        \n",
              "  <svg xmlns=\"http://www.w3.org/2000/svg\" height=\"24px\"viewBox=\"0 0 24 24\"\n",
              "       width=\"24px\">\n",
              "    <path d=\"M0 0h24v24H0V0z\" fill=\"none\"/>\n",
              "    <path d=\"M18.56 5.44l.94 2.06.94-2.06 2.06-.94-2.06-.94-.94-2.06-.94 2.06-2.06.94zm-11 1L8.5 8.5l.94-2.06 2.06-.94-2.06-.94L8.5 2.5l-.94 2.06-2.06.94zm10 10l.94 2.06.94-2.06 2.06-.94-2.06-.94-.94-2.06-.94 2.06-2.06.94z\"/><path d=\"M17.41 7.96l-1.37-1.37c-.4-.4-.92-.59-1.43-.59-.52 0-1.04.2-1.43.59L10.3 9.45l-7.72 7.72c-.78.78-.78 2.05 0 2.83L4 21.41c.39.39.9.59 1.41.59.51 0 1.02-.2 1.41-.59l7.78-7.78 2.81-2.81c.8-.78.8-2.07 0-2.86zM5.41 20L4 18.59l7.72-7.72 1.47 1.35L5.41 20z\"/>\n",
              "  </svg>\n",
              "      </button>\n",
              "      \n",
              "  <style>\n",
              "    .colab-df-container {\n",
              "      display:flex;\n",
              "      flex-wrap:wrap;\n",
              "      gap: 12px;\n",
              "    }\n",
              "\n",
              "    .colab-df-convert {\n",
              "      background-color: #E8F0FE;\n",
              "      border: none;\n",
              "      border-radius: 50%;\n",
              "      cursor: pointer;\n",
              "      display: none;\n",
              "      fill: #1967D2;\n",
              "      height: 32px;\n",
              "      padding: 0 0 0 0;\n",
              "      width: 32px;\n",
              "    }\n",
              "\n",
              "    .colab-df-convert:hover {\n",
              "      background-color: #E2EBFA;\n",
              "      box-shadow: 0px 1px 2px rgba(60, 64, 67, 0.3), 0px 1px 3px 1px rgba(60, 64, 67, 0.15);\n",
              "      fill: #174EA6;\n",
              "    }\n",
              "\n",
              "    [theme=dark] .colab-df-convert {\n",
              "      background-color: #3B4455;\n",
              "      fill: #D2E3FC;\n",
              "    }\n",
              "\n",
              "    [theme=dark] .colab-df-convert:hover {\n",
              "      background-color: #434B5C;\n",
              "      box-shadow: 0px 1px 3px 1px rgba(0, 0, 0, 0.15);\n",
              "      filter: drop-shadow(0px 1px 2px rgba(0, 0, 0, 0.3));\n",
              "      fill: #FFFFFF;\n",
              "    }\n",
              "  </style>\n",
              "\n",
              "      <script>\n",
              "        const buttonEl =\n",
              "          document.querySelector('#df-d2eab90f-e281-4604-9ee1-49ec0d3e2460 button.colab-df-convert');\n",
              "        buttonEl.style.display =\n",
              "          google.colab.kernel.accessAllowed ? 'block' : 'none';\n",
              "\n",
              "        async function convertToInteractive(key) {\n",
              "          const element = document.querySelector('#df-d2eab90f-e281-4604-9ee1-49ec0d3e2460');\n",
              "          const dataTable =\n",
              "            await google.colab.kernel.invokeFunction('convertToInteractive',\n",
              "                                                     [key], {});\n",
              "          if (!dataTable) return;\n",
              "\n",
              "          const docLinkHtml = 'Like what you see? Visit the ' +\n",
              "            '<a target=\"_blank\" href=https://colab.research.google.com/notebooks/data_table.ipynb>data table notebook</a>'\n",
              "            + ' to learn more about interactive tables.';\n",
              "          element.innerHTML = '';\n",
              "          dataTable['output_type'] = 'display_data';\n",
              "          await google.colab.output.renderOutput(dataTable, element);\n",
              "          const docLink = document.createElement('div');\n",
              "          docLink.innerHTML = docLinkHtml;\n",
              "          element.appendChild(docLink);\n",
              "        }\n",
              "      </script>\n",
              "    </div>\n",
              "  </div>\n",
              "  "
            ],
            "text/plain": [
              "          ID         country  ...                       most_impressing total_cost\n",
              "0     tour_0      SWIZERLAND  ...                       Friendly People   674602.5\n",
              "1    tour_10  UNITED KINGDOM  ...  Wonderful Country, Landscape, Nature  3214906.5\n",
              "2  tour_1000  UNITED KINGDOM  ...                  Excellent Experience  3315000.0\n",
              "3  tour_1002  UNITED KINGDOM  ...                       Friendly People  7790250.0\n",
              "4  tour_1004           CHINA  ...                           No comments  1657500.0\n",
              "\n",
              "[5 rows x 23 columns]"
            ]
          },
          "metadata": {},
          "execution_count": 42
        }
      ]
    },
    {
      "cell_type": "code",
      "source": [
        "# Let's view the last five columns\n",
        "tourism.tail()"
      ],
      "metadata": {
        "colab": {
          "base_uri": "https://localhost:8080/",
          "height": 426
        },
        "id": "DEhgIgU_ZiaT",
        "outputId": "7a28d8c6-f0d6-478b-f256-dd0972872692"
      },
      "execution_count": null,
      "outputs": [
        {
          "output_type": "execute_result",
          "data": {
            "text/html": [
              "\n",
              "  <div id=\"df-dddb4d5e-4ec1-46e4-bd20-be018cab156c\">\n",
              "    <div class=\"colab-df-container\">\n",
              "      <div>\n",
              "<style scoped>\n",
              "    .dataframe tbody tr th:only-of-type {\n",
              "        vertical-align: middle;\n",
              "    }\n",
              "\n",
              "    .dataframe tbody tr th {\n",
              "        vertical-align: top;\n",
              "    }\n",
              "\n",
              "    .dataframe thead th {\n",
              "        text-align: right;\n",
              "    }\n",
              "</style>\n",
              "<table border=\"1\" class=\"dataframe\">\n",
              "  <thead>\n",
              "    <tr style=\"text-align: right;\">\n",
              "      <th></th>\n",
              "      <th>ID</th>\n",
              "      <th>country</th>\n",
              "      <th>age_group</th>\n",
              "      <th>travel_with</th>\n",
              "      <th>total_female</th>\n",
              "      <th>total_male</th>\n",
              "      <th>purpose</th>\n",
              "      <th>main_activity</th>\n",
              "      <th>info_source</th>\n",
              "      <th>tour_arrangement</th>\n",
              "      <th>package_transport_int</th>\n",
              "      <th>package_accomodation</th>\n",
              "      <th>package_food</th>\n",
              "      <th>package_transport_tz</th>\n",
              "      <th>package_sightseeing</th>\n",
              "      <th>package_guided_tour</th>\n",
              "      <th>package_insurance</th>\n",
              "      <th>night_mainland</th>\n",
              "      <th>night_zanzibar</th>\n",
              "      <th>payment_mode</th>\n",
              "      <th>first_trip_tz</th>\n",
              "      <th>most_impressing</th>\n",
              "      <th>total_cost</th>\n",
              "    </tr>\n",
              "  </thead>\n",
              "  <tbody>\n",
              "    <tr>\n",
              "      <th>4804</th>\n",
              "      <td>tour_993</td>\n",
              "      <td>UAE</td>\n",
              "      <td>45-64</td>\n",
              "      <td>Alone</td>\n",
              "      <td>0.0</td>\n",
              "      <td>1.0</td>\n",
              "      <td>Business</td>\n",
              "      <td>Hunting tourism</td>\n",
              "      <td>Friends, relatives</td>\n",
              "      <td>Independent</td>\n",
              "      <td>No</td>\n",
              "      <td>No</td>\n",
              "      <td>No</td>\n",
              "      <td>No</td>\n",
              "      <td>No</td>\n",
              "      <td>No</td>\n",
              "      <td>No</td>\n",
              "      <td>2</td>\n",
              "      <td>0</td>\n",
              "      <td>Credit Card</td>\n",
              "      <td>No</td>\n",
              "      <td>No comments</td>\n",
              "      <td>3315000.0</td>\n",
              "    </tr>\n",
              "    <tr>\n",
              "      <th>4805</th>\n",
              "      <td>tour_994</td>\n",
              "      <td>UNITED STATES OF AMERICA</td>\n",
              "      <td>25-44</td>\n",
              "      <td>Spouse</td>\n",
              "      <td>1.0</td>\n",
              "      <td>1.0</td>\n",
              "      <td>Leisure and Holidays</td>\n",
              "      <td>Wildlife tourism</td>\n",
              "      <td>Travel, agent, tour operator</td>\n",
              "      <td>Package Tour</td>\n",
              "      <td>Yes</td>\n",
              "      <td>Yes</td>\n",
              "      <td>Yes</td>\n",
              "      <td>Yes</td>\n",
              "      <td>Yes</td>\n",
              "      <td>Yes</td>\n",
              "      <td>Yes</td>\n",
              "      <td>11</td>\n",
              "      <td>0</td>\n",
              "      <td>Cash</td>\n",
              "      <td>Yes</td>\n",
              "      <td>Friendly People</td>\n",
              "      <td>10690875.0</td>\n",
              "    </tr>\n",
              "    <tr>\n",
              "      <th>4806</th>\n",
              "      <td>tour_995</td>\n",
              "      <td>NETHERLANDS</td>\n",
              "      <td>Jan-24</td>\n",
              "      <td>NaN</td>\n",
              "      <td>1.0</td>\n",
              "      <td>0.0</td>\n",
              "      <td>Leisure and Holidays</td>\n",
              "      <td>Wildlife tourism</td>\n",
              "      <td>others</td>\n",
              "      <td>Independent</td>\n",
              "      <td>No</td>\n",
              "      <td>No</td>\n",
              "      <td>No</td>\n",
              "      <td>No</td>\n",
              "      <td>No</td>\n",
              "      <td>No</td>\n",
              "      <td>No</td>\n",
              "      <td>3</td>\n",
              "      <td>7</td>\n",
              "      <td>Cash</td>\n",
              "      <td>Yes</td>\n",
              "      <td>Good service</td>\n",
              "      <td>2246636.7</td>\n",
              "    </tr>\n",
              "    <tr>\n",
              "      <th>4807</th>\n",
              "      <td>tour_997</td>\n",
              "      <td>SOUTH AFRICA</td>\n",
              "      <td>25-44</td>\n",
              "      <td>Friends/Relatives</td>\n",
              "      <td>1.0</td>\n",
              "      <td>1.0</td>\n",
              "      <td>Business</td>\n",
              "      <td>Beach tourism</td>\n",
              "      <td>Travel, agent, tour operator</td>\n",
              "      <td>Independent</td>\n",
              "      <td>Yes</td>\n",
              "      <td>Yes</td>\n",
              "      <td>Yes</td>\n",
              "      <td>No</td>\n",
              "      <td>No</td>\n",
              "      <td>No</td>\n",
              "      <td>No</td>\n",
              "      <td>5</td>\n",
              "      <td>0</td>\n",
              "      <td>Credit Card</td>\n",
              "      <td>No</td>\n",
              "      <td>Friendly People</td>\n",
              "      <td>1160250.0</td>\n",
              "    </tr>\n",
              "    <tr>\n",
              "      <th>4808</th>\n",
              "      <td>tour_999</td>\n",
              "      <td>UNITED KINGDOM</td>\n",
              "      <td>25-44</td>\n",
              "      <td>Spouse</td>\n",
              "      <td>1.0</td>\n",
              "      <td>1.0</td>\n",
              "      <td>Leisure and Holidays</td>\n",
              "      <td>Wildlife tourism</td>\n",
              "      <td>Travel, agent, tour operator</td>\n",
              "      <td>Package Tour</td>\n",
              "      <td>Yes</td>\n",
              "      <td>Yes</td>\n",
              "      <td>Yes</td>\n",
              "      <td>Yes</td>\n",
              "      <td>Yes</td>\n",
              "      <td>Yes</td>\n",
              "      <td>No</td>\n",
              "      <td>4</td>\n",
              "      <td>7</td>\n",
              "      <td>Cash</td>\n",
              "      <td>Yes</td>\n",
              "      <td>Friendly People</td>\n",
              "      <td>13260000.0</td>\n",
              "    </tr>\n",
              "  </tbody>\n",
              "</table>\n",
              "</div>\n",
              "      <button class=\"colab-df-convert\" onclick=\"convertToInteractive('df-dddb4d5e-4ec1-46e4-bd20-be018cab156c')\"\n",
              "              title=\"Convert this dataframe to an interactive table.\"\n",
              "              style=\"display:none;\">\n",
              "        \n",
              "  <svg xmlns=\"http://www.w3.org/2000/svg\" height=\"24px\"viewBox=\"0 0 24 24\"\n",
              "       width=\"24px\">\n",
              "    <path d=\"M0 0h24v24H0V0z\" fill=\"none\"/>\n",
              "    <path d=\"M18.56 5.44l.94 2.06.94-2.06 2.06-.94-2.06-.94-.94-2.06-.94 2.06-2.06.94zm-11 1L8.5 8.5l.94-2.06 2.06-.94-2.06-.94L8.5 2.5l-.94 2.06-2.06.94zm10 10l.94 2.06.94-2.06 2.06-.94-2.06-.94-.94-2.06-.94 2.06-2.06.94z\"/><path d=\"M17.41 7.96l-1.37-1.37c-.4-.4-.92-.59-1.43-.59-.52 0-1.04.2-1.43.59L10.3 9.45l-7.72 7.72c-.78.78-.78 2.05 0 2.83L4 21.41c.39.39.9.59 1.41.59.51 0 1.02-.2 1.41-.59l7.78-7.78 2.81-2.81c.8-.78.8-2.07 0-2.86zM5.41 20L4 18.59l7.72-7.72 1.47 1.35L5.41 20z\"/>\n",
              "  </svg>\n",
              "      </button>\n",
              "      \n",
              "  <style>\n",
              "    .colab-df-container {\n",
              "      display:flex;\n",
              "      flex-wrap:wrap;\n",
              "      gap: 12px;\n",
              "    }\n",
              "\n",
              "    .colab-df-convert {\n",
              "      background-color: #E8F0FE;\n",
              "      border: none;\n",
              "      border-radius: 50%;\n",
              "      cursor: pointer;\n",
              "      display: none;\n",
              "      fill: #1967D2;\n",
              "      height: 32px;\n",
              "      padding: 0 0 0 0;\n",
              "      width: 32px;\n",
              "    }\n",
              "\n",
              "    .colab-df-convert:hover {\n",
              "      background-color: #E2EBFA;\n",
              "      box-shadow: 0px 1px 2px rgba(60, 64, 67, 0.3), 0px 1px 3px 1px rgba(60, 64, 67, 0.15);\n",
              "      fill: #174EA6;\n",
              "    }\n",
              "\n",
              "    [theme=dark] .colab-df-convert {\n",
              "      background-color: #3B4455;\n",
              "      fill: #D2E3FC;\n",
              "    }\n",
              "\n",
              "    [theme=dark] .colab-df-convert:hover {\n",
              "      background-color: #434B5C;\n",
              "      box-shadow: 0px 1px 3px 1px rgba(0, 0, 0, 0.15);\n",
              "      filter: drop-shadow(0px 1px 2px rgba(0, 0, 0, 0.3));\n",
              "      fill: #FFFFFF;\n",
              "    }\n",
              "  </style>\n",
              "\n",
              "      <script>\n",
              "        const buttonEl =\n",
              "          document.querySelector('#df-dddb4d5e-4ec1-46e4-bd20-be018cab156c button.colab-df-convert');\n",
              "        buttonEl.style.display =\n",
              "          google.colab.kernel.accessAllowed ? 'block' : 'none';\n",
              "\n",
              "        async function convertToInteractive(key) {\n",
              "          const element = document.querySelector('#df-dddb4d5e-4ec1-46e4-bd20-be018cab156c');\n",
              "          const dataTable =\n",
              "            await google.colab.kernel.invokeFunction('convertToInteractive',\n",
              "                                                     [key], {});\n",
              "          if (!dataTable) return;\n",
              "\n",
              "          const docLinkHtml = 'Like what you see? Visit the ' +\n",
              "            '<a target=\"_blank\" href=https://colab.research.google.com/notebooks/data_table.ipynb>data table notebook</a>'\n",
              "            + ' to learn more about interactive tables.';\n",
              "          element.innerHTML = '';\n",
              "          dataTable['output_type'] = 'display_data';\n",
              "          await google.colab.output.renderOutput(dataTable, element);\n",
              "          const docLink = document.createElement('div');\n",
              "          docLink.innerHTML = docLinkHtml;\n",
              "          element.appendChild(docLink);\n",
              "        }\n",
              "      </script>\n",
              "    </div>\n",
              "  </div>\n",
              "  "
            ],
            "text/plain": [
              "            ID                   country  ...  most_impressing  total_cost\n",
              "4804  tour_993                       UAE  ...      No comments   3315000.0\n",
              "4805  tour_994  UNITED STATES OF AMERICA  ...  Friendly People  10690875.0\n",
              "4806  tour_995               NETHERLANDS  ...     Good service   2246636.7\n",
              "4807  tour_997              SOUTH AFRICA  ...  Friendly People   1160250.0\n",
              "4808  tour_999            UNITED KINGDOM  ...  Friendly People  13260000.0\n",
              "\n",
              "[5 rows x 23 columns]"
            ]
          },
          "metadata": {},
          "execution_count": 43
        }
      ]
    },
    {
      "cell_type": "code",
      "source": [
        "# Check the number of rows and columns in our dataframe\n",
        "tourism.shape"
      ],
      "metadata": {
        "colab": {
          "base_uri": "https://localhost:8080/"
        },
        "id": "K83OtbUjw5B9",
        "outputId": "38e6d4ab-2205-45b5-f8f4-d5dd9e8ceac2"
      },
      "execution_count": null,
      "outputs": [
        {
          "output_type": "execute_result",
          "data": {
            "text/plain": [
              "(4809, 23)"
            ]
          },
          "metadata": {},
          "execution_count": 44
        }
      ]
    },
    {
      "cell_type": "markdown",
      "source": [
        "There are 4,809 rows and 23 columns"
      ],
      "metadata": {
        "id": "x5XsTyoIaVtm"
      }
    },
    {
      "cell_type": "code",
      "source": [
        "# Our dataframe information\n",
        "tourism.info()"
      ],
      "metadata": {
        "colab": {
          "base_uri": "https://localhost:8080/"
        },
        "id": "uHrDmacmw9HC",
        "outputId": "8f185458-fcb8-420d-a8f8-75495a3c1060"
      },
      "execution_count": null,
      "outputs": [
        {
          "output_type": "stream",
          "name": "stdout",
          "text": [
            "<class 'pandas.core.frame.DataFrame'>\n",
            "RangeIndex: 4809 entries, 0 to 4808\n",
            "Data columns (total 23 columns):\n",
            " #   Column                 Non-Null Count  Dtype  \n",
            "---  ------                 --------------  -----  \n",
            " 0   ID                     4809 non-null   object \n",
            " 1   country                4809 non-null   object \n",
            " 2   age_group              4809 non-null   object \n",
            " 3   travel_with            3695 non-null   object \n",
            " 4   total_female           4806 non-null   float64\n",
            " 5   total_male             4804 non-null   float64\n",
            " 6   purpose                4809 non-null   object \n",
            " 7   main_activity          4809 non-null   object \n",
            " 8   info_source            4809 non-null   object \n",
            " 9   tour_arrangement       4809 non-null   object \n",
            " 10  package_transport_int  4809 non-null   object \n",
            " 11  package_accomodation   4809 non-null   object \n",
            " 12  package_food           4809 non-null   object \n",
            " 13  package_transport_tz   4809 non-null   object \n",
            " 14  package_sightseeing    4809 non-null   object \n",
            " 15  package_guided_tour    4809 non-null   object \n",
            " 16  package_insurance      4809 non-null   object \n",
            " 17  night_mainland         4809 non-null   int64  \n",
            " 18  night_zanzibar         4809 non-null   int64  \n",
            " 19  payment_mode           4809 non-null   object \n",
            " 20  first_trip_tz          4809 non-null   object \n",
            " 21  most_impressing        4496 non-null   object \n",
            " 22  total_cost             4809 non-null   float64\n",
            "dtypes: float64(3), int64(2), object(18)\n",
            "memory usage: 864.2+ KB\n"
          ]
        }
      ]
    },
    {
      "cell_type": "code",
      "source": [
        "# Identify any missing values\n",
        "tourism.isnull().sum()"
      ],
      "metadata": {
        "colab": {
          "base_uri": "https://localhost:8080/"
        },
        "id": "WEXURwPxw9Oc",
        "outputId": "a72e2e9d-10b3-440d-ea4b-3a6fbd001168"
      },
      "execution_count": null,
      "outputs": [
        {
          "output_type": "execute_result",
          "data": {
            "text/plain": [
              "ID                          0\n",
              "country                     0\n",
              "age_group                   0\n",
              "travel_with              1114\n",
              "total_female                3\n",
              "total_male                  5\n",
              "purpose                     0\n",
              "main_activity               0\n",
              "info_source                 0\n",
              "tour_arrangement            0\n",
              "package_transport_int       0\n",
              "package_accomodation        0\n",
              "package_food                0\n",
              "package_transport_tz        0\n",
              "package_sightseeing         0\n",
              "package_guided_tour         0\n",
              "package_insurance           0\n",
              "night_mainland              0\n",
              "night_zanzibar              0\n",
              "payment_mode                0\n",
              "first_trip_tz               0\n",
              "most_impressing           313\n",
              "total_cost                  0\n",
              "dtype: int64"
            ]
          },
          "metadata": {},
          "execution_count": 46
        }
      ]
    },
    {
      "cell_type": "code",
      "source": [
        "# The total number of missing values in our dataframe\n",
        "tourism.isnull().sum().sum()"
      ],
      "metadata": {
        "colab": {
          "base_uri": "https://localhost:8080/"
        },
        "id": "ATKKQ1hVZ-Fs",
        "outputId": "2d522e0b-a0fc-4525-a4c9-a9f747269abb"
      },
      "execution_count": null,
      "outputs": [
        {
          "output_type": "execute_result",
          "data": {
            "text/plain": [
              "1435"
            ]
          },
          "metadata": {},
          "execution_count": 47
        }
      ]
    },
    {
      "cell_type": "markdown",
      "source": [
        "There are 1,435 null values "
      ],
      "metadata": {
        "id": "lvKTcYE5aLM5"
      }
    },
    {
      "cell_type": "code",
      "source": [
        "# Check for duplicate values\n",
        "tourism.duplicated().sum()"
      ],
      "metadata": {
        "colab": {
          "base_uri": "https://localhost:8080/"
        },
        "id": "Mam_qTOyxYXo",
        "outputId": "8bedf2da-a334-4e92-e455-87115f1684b8"
      },
      "execution_count": null,
      "outputs": [
        {
          "output_type": "execute_result",
          "data": {
            "text/plain": [
              "0"
            ]
          },
          "metadata": {},
          "execution_count": 48
        }
      ]
    },
    {
      "cell_type": "markdown",
      "source": [
        "There are no duplicate values"
      ],
      "metadata": {
        "id": "L0sraiP1aqwP"
      }
    },
    {
      "cell_type": "code",
      "source": [
        "# Check the statistical information of our dataframe\n",
        "tourism.describe()"
      ],
      "metadata": {
        "colab": {
          "base_uri": "https://localhost:8080/",
          "height": 300
        },
        "id": "087KjpSFazXh",
        "outputId": "fada5ecd-05d1-40a6-9634-5888248b68d9"
      },
      "execution_count": null,
      "outputs": [
        {
          "output_type": "execute_result",
          "data": {
            "text/html": [
              "\n",
              "  <div id=\"df-b48b4536-c59b-4d15-a0f3-2c33ba0f13cc\">\n",
              "    <div class=\"colab-df-container\">\n",
              "      <div>\n",
              "<style scoped>\n",
              "    .dataframe tbody tr th:only-of-type {\n",
              "        vertical-align: middle;\n",
              "    }\n",
              "\n",
              "    .dataframe tbody tr th {\n",
              "        vertical-align: top;\n",
              "    }\n",
              "\n",
              "    .dataframe thead th {\n",
              "        text-align: right;\n",
              "    }\n",
              "</style>\n",
              "<table border=\"1\" class=\"dataframe\">\n",
              "  <thead>\n",
              "    <tr style=\"text-align: right;\">\n",
              "      <th></th>\n",
              "      <th>total_female</th>\n",
              "      <th>total_male</th>\n",
              "      <th>night_mainland</th>\n",
              "      <th>night_zanzibar</th>\n",
              "      <th>total_cost</th>\n",
              "    </tr>\n",
              "  </thead>\n",
              "  <tbody>\n",
              "    <tr>\n",
              "      <th>count</th>\n",
              "      <td>4806.000000</td>\n",
              "      <td>4804.000000</td>\n",
              "      <td>4809.000000</td>\n",
              "      <td>4809.000000</td>\n",
              "      <td>4.809000e+03</td>\n",
              "    </tr>\n",
              "    <tr>\n",
              "      <th>mean</th>\n",
              "      <td>0.926758</td>\n",
              "      <td>1.009575</td>\n",
              "      <td>8.488043</td>\n",
              "      <td>2.304429</td>\n",
              "      <td>8.114389e+06</td>\n",
              "    </tr>\n",
              "    <tr>\n",
              "      <th>std</th>\n",
              "      <td>1.288242</td>\n",
              "      <td>1.138865</td>\n",
              "      <td>10.427624</td>\n",
              "      <td>4.227080</td>\n",
              "      <td>1.222490e+07</td>\n",
              "    </tr>\n",
              "    <tr>\n",
              "      <th>min</th>\n",
              "      <td>0.000000</td>\n",
              "      <td>0.000000</td>\n",
              "      <td>0.000000</td>\n",
              "      <td>0.000000</td>\n",
              "      <td>4.900000e+04</td>\n",
              "    </tr>\n",
              "    <tr>\n",
              "      <th>25%</th>\n",
              "      <td>0.000000</td>\n",
              "      <td>1.000000</td>\n",
              "      <td>3.000000</td>\n",
              "      <td>0.000000</td>\n",
              "      <td>8.121750e+05</td>\n",
              "    </tr>\n",
              "    <tr>\n",
              "      <th>50%</th>\n",
              "      <td>1.000000</td>\n",
              "      <td>1.000000</td>\n",
              "      <td>6.000000</td>\n",
              "      <td>0.000000</td>\n",
              "      <td>3.397875e+06</td>\n",
              "    </tr>\n",
              "    <tr>\n",
              "      <th>75%</th>\n",
              "      <td>1.000000</td>\n",
              "      <td>1.000000</td>\n",
              "      <td>11.000000</td>\n",
              "      <td>4.000000</td>\n",
              "      <td>9.945000e+06</td>\n",
              "    </tr>\n",
              "    <tr>\n",
              "      <th>max</th>\n",
              "      <td>49.000000</td>\n",
              "      <td>44.000000</td>\n",
              "      <td>145.000000</td>\n",
              "      <td>61.000000</td>\n",
              "      <td>9.953288e+07</td>\n",
              "    </tr>\n",
              "  </tbody>\n",
              "</table>\n",
              "</div>\n",
              "      <button class=\"colab-df-convert\" onclick=\"convertToInteractive('df-b48b4536-c59b-4d15-a0f3-2c33ba0f13cc')\"\n",
              "              title=\"Convert this dataframe to an interactive table.\"\n",
              "              style=\"display:none;\">\n",
              "        \n",
              "  <svg xmlns=\"http://www.w3.org/2000/svg\" height=\"24px\"viewBox=\"0 0 24 24\"\n",
              "       width=\"24px\">\n",
              "    <path d=\"M0 0h24v24H0V0z\" fill=\"none\"/>\n",
              "    <path d=\"M18.56 5.44l.94 2.06.94-2.06 2.06-.94-2.06-.94-.94-2.06-.94 2.06-2.06.94zm-11 1L8.5 8.5l.94-2.06 2.06-.94-2.06-.94L8.5 2.5l-.94 2.06-2.06.94zm10 10l.94 2.06.94-2.06 2.06-.94-2.06-.94-.94-2.06-.94 2.06-2.06.94z\"/><path d=\"M17.41 7.96l-1.37-1.37c-.4-.4-.92-.59-1.43-.59-.52 0-1.04.2-1.43.59L10.3 9.45l-7.72 7.72c-.78.78-.78 2.05 0 2.83L4 21.41c.39.39.9.59 1.41.59.51 0 1.02-.2 1.41-.59l7.78-7.78 2.81-2.81c.8-.78.8-2.07 0-2.86zM5.41 20L4 18.59l7.72-7.72 1.47 1.35L5.41 20z\"/>\n",
              "  </svg>\n",
              "      </button>\n",
              "      \n",
              "  <style>\n",
              "    .colab-df-container {\n",
              "      display:flex;\n",
              "      flex-wrap:wrap;\n",
              "      gap: 12px;\n",
              "    }\n",
              "\n",
              "    .colab-df-convert {\n",
              "      background-color: #E8F0FE;\n",
              "      border: none;\n",
              "      border-radius: 50%;\n",
              "      cursor: pointer;\n",
              "      display: none;\n",
              "      fill: #1967D2;\n",
              "      height: 32px;\n",
              "      padding: 0 0 0 0;\n",
              "      width: 32px;\n",
              "    }\n",
              "\n",
              "    .colab-df-convert:hover {\n",
              "      background-color: #E2EBFA;\n",
              "      box-shadow: 0px 1px 2px rgba(60, 64, 67, 0.3), 0px 1px 3px 1px rgba(60, 64, 67, 0.15);\n",
              "      fill: #174EA6;\n",
              "    }\n",
              "\n",
              "    [theme=dark] .colab-df-convert {\n",
              "      background-color: #3B4455;\n",
              "      fill: #D2E3FC;\n",
              "    }\n",
              "\n",
              "    [theme=dark] .colab-df-convert:hover {\n",
              "      background-color: #434B5C;\n",
              "      box-shadow: 0px 1px 3px 1px rgba(0, 0, 0, 0.15);\n",
              "      filter: drop-shadow(0px 1px 2px rgba(0, 0, 0, 0.3));\n",
              "      fill: #FFFFFF;\n",
              "    }\n",
              "  </style>\n",
              "\n",
              "      <script>\n",
              "        const buttonEl =\n",
              "          document.querySelector('#df-b48b4536-c59b-4d15-a0f3-2c33ba0f13cc button.colab-df-convert');\n",
              "        buttonEl.style.display =\n",
              "          google.colab.kernel.accessAllowed ? 'block' : 'none';\n",
              "\n",
              "        async function convertToInteractive(key) {\n",
              "          const element = document.querySelector('#df-b48b4536-c59b-4d15-a0f3-2c33ba0f13cc');\n",
              "          const dataTable =\n",
              "            await google.colab.kernel.invokeFunction('convertToInteractive',\n",
              "                                                     [key], {});\n",
              "          if (!dataTable) return;\n",
              "\n",
              "          const docLinkHtml = 'Like what you see? Visit the ' +\n",
              "            '<a target=\"_blank\" href=https://colab.research.google.com/notebooks/data_table.ipynb>data table notebook</a>'\n",
              "            + ' to learn more about interactive tables.';\n",
              "          element.innerHTML = '';\n",
              "          dataTable['output_type'] = 'display_data';\n",
              "          await google.colab.output.renderOutput(dataTable, element);\n",
              "          const docLink = document.createElement('div');\n",
              "          docLink.innerHTML = docLinkHtml;\n",
              "          element.appendChild(docLink);\n",
              "        }\n",
              "      </script>\n",
              "    </div>\n",
              "  </div>\n",
              "  "
            ],
            "text/plain": [
              "       total_female   total_male  night_mainland  night_zanzibar    total_cost\n",
              "count   4806.000000  4804.000000     4809.000000     4809.000000  4.809000e+03\n",
              "mean       0.926758     1.009575        8.488043        2.304429  8.114389e+06\n",
              "std        1.288242     1.138865       10.427624        4.227080  1.222490e+07\n",
              "min        0.000000     0.000000        0.000000        0.000000  4.900000e+04\n",
              "25%        0.000000     1.000000        3.000000        0.000000  8.121750e+05\n",
              "50%        1.000000     1.000000        6.000000        0.000000  3.397875e+06\n",
              "75%        1.000000     1.000000       11.000000        4.000000  9.945000e+06\n",
              "max       49.000000    44.000000      145.000000       61.000000  9.953288e+07"
            ]
          },
          "metadata": {},
          "execution_count": 49
        }
      ]
    },
    {
      "cell_type": "code",
      "source": [
        "# Let's identify the column names in our dataset\n",
        "tourism.columns"
      ],
      "metadata": {
        "colab": {
          "base_uri": "https://localhost:8080/"
        },
        "id": "oeFzAO9fbJG1",
        "outputId": "0610894b-427f-4b7c-fbf5-34754620e2d8"
      },
      "execution_count": null,
      "outputs": [
        {
          "output_type": "execute_result",
          "data": {
            "text/plain": [
              "Index(['ID', 'country', 'age_group', 'travel_with', 'total_female',\n",
              "       'total_male', 'purpose', 'main_activity', 'info_source',\n",
              "       'tour_arrangement', 'package_transport_int', 'package_accomodation',\n",
              "       'package_food', 'package_transport_tz', 'package_sightseeing',\n",
              "       'package_guided_tour', 'package_insurance', 'night_mainland',\n",
              "       'night_zanzibar', 'payment_mode', 'first_trip_tz', 'most_impressing',\n",
              "       'total_cost'],\n",
              "      dtype='object')"
            ]
          },
          "metadata": {},
          "execution_count": 50
        }
      ]
    },
    {
      "cell_type": "markdown",
      "source": [
        "\n",
        "#1.2. Data Cleaning"
      ],
      "metadata": {
        "id": "Mpeovc08bPWZ"
      }
    },
    {
      "cell_type": "code",
      "source": [
        "# Handling Missing Values\n",
        "tourism.isnull().sum()"
      ],
      "metadata": {
        "colab": {
          "base_uri": "https://localhost:8080/"
        },
        "id": "7F40u9bDZfSg",
        "outputId": "1bb7fc1e-d93d-4a6c-8e2b-83454439f061"
      },
      "execution_count": null,
      "outputs": [
        {
          "output_type": "execute_result",
          "data": {
            "text/plain": [
              "ID                          0\n",
              "country                     0\n",
              "age_group                   0\n",
              "travel_with              1114\n",
              "total_female                3\n",
              "total_male                  5\n",
              "purpose                     0\n",
              "main_activity               0\n",
              "info_source                 0\n",
              "tour_arrangement            0\n",
              "package_transport_int       0\n",
              "package_accomodation        0\n",
              "package_food                0\n",
              "package_transport_tz        0\n",
              "package_sightseeing         0\n",
              "package_guided_tour         0\n",
              "package_insurance           0\n",
              "night_mainland              0\n",
              "night_zanzibar              0\n",
              "payment_mode                0\n",
              "first_trip_tz               0\n",
              "most_impressing           313\n",
              "total_cost                  0\n",
              "dtype: int64"
            ]
          },
          "metadata": {},
          "execution_count": 51
        }
      ]
    },
    {
      "cell_type": "code",
      "source": [
        "# We will fill missing values in the travel_with column with DNS this stands for did not submit\n",
        "tourism['travel_with'].fillna('DNS', inplace = True)\n",
        "# View the changes\n",
        "tourism.head(10)"
      ],
      "metadata": {
        "colab": {
          "base_uri": "https://localhost:8080/",
          "height": 791
        },
        "id": "vkNWetPnfQcB",
        "outputId": "710368a9-6aee-48d5-a168-7525bf3ea2ad"
      },
      "execution_count": null,
      "outputs": [
        {
          "output_type": "execute_result",
          "data": {
            "text/html": [
              "\n",
              "  <div id=\"df-d60aa969-1e13-4bfb-8e91-d50b9eacdf21\">\n",
              "    <div class=\"colab-df-container\">\n",
              "      <div>\n",
              "<style scoped>\n",
              "    .dataframe tbody tr th:only-of-type {\n",
              "        vertical-align: middle;\n",
              "    }\n",
              "\n",
              "    .dataframe tbody tr th {\n",
              "        vertical-align: top;\n",
              "    }\n",
              "\n",
              "    .dataframe thead th {\n",
              "        text-align: right;\n",
              "    }\n",
              "</style>\n",
              "<table border=\"1\" class=\"dataframe\">\n",
              "  <thead>\n",
              "    <tr style=\"text-align: right;\">\n",
              "      <th></th>\n",
              "      <th>ID</th>\n",
              "      <th>country</th>\n",
              "      <th>age_group</th>\n",
              "      <th>travel_with</th>\n",
              "      <th>total_female</th>\n",
              "      <th>total_male</th>\n",
              "      <th>purpose</th>\n",
              "      <th>main_activity</th>\n",
              "      <th>info_source</th>\n",
              "      <th>tour_arrangement</th>\n",
              "      <th>package_transport_int</th>\n",
              "      <th>package_accomodation</th>\n",
              "      <th>package_food</th>\n",
              "      <th>package_transport_tz</th>\n",
              "      <th>package_sightseeing</th>\n",
              "      <th>package_guided_tour</th>\n",
              "      <th>package_insurance</th>\n",
              "      <th>night_mainland</th>\n",
              "      <th>night_zanzibar</th>\n",
              "      <th>payment_mode</th>\n",
              "      <th>first_trip_tz</th>\n",
              "      <th>most_impressing</th>\n",
              "      <th>total_cost</th>\n",
              "    </tr>\n",
              "  </thead>\n",
              "  <tbody>\n",
              "    <tr>\n",
              "      <th>0</th>\n",
              "      <td>tour_0</td>\n",
              "      <td>SWIZERLAND</td>\n",
              "      <td>45-64</td>\n",
              "      <td>Friends/Relatives</td>\n",
              "      <td>1.0</td>\n",
              "      <td>1.0</td>\n",
              "      <td>Leisure and Holidays</td>\n",
              "      <td>Wildlife tourism</td>\n",
              "      <td>Friends, relatives</td>\n",
              "      <td>Independent</td>\n",
              "      <td>No</td>\n",
              "      <td>No</td>\n",
              "      <td>No</td>\n",
              "      <td>No</td>\n",
              "      <td>No</td>\n",
              "      <td>No</td>\n",
              "      <td>No</td>\n",
              "      <td>13</td>\n",
              "      <td>0</td>\n",
              "      <td>Cash</td>\n",
              "      <td>No</td>\n",
              "      <td>Friendly People</td>\n",
              "      <td>674602.5</td>\n",
              "    </tr>\n",
              "    <tr>\n",
              "      <th>1</th>\n",
              "      <td>tour_10</td>\n",
              "      <td>UNITED KINGDOM</td>\n",
              "      <td>25-44</td>\n",
              "      <td>DNS</td>\n",
              "      <td>1.0</td>\n",
              "      <td>0.0</td>\n",
              "      <td>Leisure and Holidays</td>\n",
              "      <td>Cultural tourism</td>\n",
              "      <td>others</td>\n",
              "      <td>Independent</td>\n",
              "      <td>No</td>\n",
              "      <td>No</td>\n",
              "      <td>No</td>\n",
              "      <td>No</td>\n",
              "      <td>No</td>\n",
              "      <td>No</td>\n",
              "      <td>No</td>\n",
              "      <td>14</td>\n",
              "      <td>7</td>\n",
              "      <td>Cash</td>\n",
              "      <td>Yes</td>\n",
              "      <td>Wonderful Country, Landscape, Nature</td>\n",
              "      <td>3214906.5</td>\n",
              "    </tr>\n",
              "    <tr>\n",
              "      <th>2</th>\n",
              "      <td>tour_1000</td>\n",
              "      <td>UNITED KINGDOM</td>\n",
              "      <td>25-44</td>\n",
              "      <td>Alone</td>\n",
              "      <td>0.0</td>\n",
              "      <td>1.0</td>\n",
              "      <td>Visiting Friends and Relatives</td>\n",
              "      <td>Cultural tourism</td>\n",
              "      <td>Friends, relatives</td>\n",
              "      <td>Independent</td>\n",
              "      <td>No</td>\n",
              "      <td>No</td>\n",
              "      <td>No</td>\n",
              "      <td>No</td>\n",
              "      <td>No</td>\n",
              "      <td>No</td>\n",
              "      <td>No</td>\n",
              "      <td>1</td>\n",
              "      <td>31</td>\n",
              "      <td>Cash</td>\n",
              "      <td>No</td>\n",
              "      <td>Excellent Experience</td>\n",
              "      <td>3315000.0</td>\n",
              "    </tr>\n",
              "    <tr>\n",
              "      <th>3</th>\n",
              "      <td>tour_1002</td>\n",
              "      <td>UNITED KINGDOM</td>\n",
              "      <td>25-44</td>\n",
              "      <td>Spouse</td>\n",
              "      <td>1.0</td>\n",
              "      <td>1.0</td>\n",
              "      <td>Leisure and Holidays</td>\n",
              "      <td>Wildlife tourism</td>\n",
              "      <td>Travel, agent, tour operator</td>\n",
              "      <td>Package Tour</td>\n",
              "      <td>No</td>\n",
              "      <td>Yes</td>\n",
              "      <td>Yes</td>\n",
              "      <td>Yes</td>\n",
              "      <td>Yes</td>\n",
              "      <td>Yes</td>\n",
              "      <td>No</td>\n",
              "      <td>11</td>\n",
              "      <td>0</td>\n",
              "      <td>Cash</td>\n",
              "      <td>Yes</td>\n",
              "      <td>Friendly People</td>\n",
              "      <td>7790250.0</td>\n",
              "    </tr>\n",
              "    <tr>\n",
              "      <th>4</th>\n",
              "      <td>tour_1004</td>\n",
              "      <td>CHINA</td>\n",
              "      <td>Jan-24</td>\n",
              "      <td>DNS</td>\n",
              "      <td>1.0</td>\n",
              "      <td>0.0</td>\n",
              "      <td>Leisure and Holidays</td>\n",
              "      <td>Wildlife tourism</td>\n",
              "      <td>Travel, agent, tour operator</td>\n",
              "      <td>Independent</td>\n",
              "      <td>No</td>\n",
              "      <td>No</td>\n",
              "      <td>No</td>\n",
              "      <td>No</td>\n",
              "      <td>No</td>\n",
              "      <td>No</td>\n",
              "      <td>No</td>\n",
              "      <td>7</td>\n",
              "      <td>4</td>\n",
              "      <td>Cash</td>\n",
              "      <td>Yes</td>\n",
              "      <td>No comments</td>\n",
              "      <td>1657500.0</td>\n",
              "    </tr>\n",
              "    <tr>\n",
              "      <th>5</th>\n",
              "      <td>tour_1005</td>\n",
              "      <td>UNITED KINGDOM</td>\n",
              "      <td>25-44</td>\n",
              "      <td>DNS</td>\n",
              "      <td>0.0</td>\n",
              "      <td>1.0</td>\n",
              "      <td>Leisure and Holidays</td>\n",
              "      <td>Wildlife tourism</td>\n",
              "      <td>Travel, agent, tour operator</td>\n",
              "      <td>Package Tour</td>\n",
              "      <td>No</td>\n",
              "      <td>No</td>\n",
              "      <td>No</td>\n",
              "      <td>No</td>\n",
              "      <td>Yes</td>\n",
              "      <td>Yes</td>\n",
              "      <td>No</td>\n",
              "      <td>9</td>\n",
              "      <td>3</td>\n",
              "      <td>Cash</td>\n",
              "      <td>Yes</td>\n",
              "      <td>Wildlife</td>\n",
              "      <td>120950.0</td>\n",
              "    </tr>\n",
              "    <tr>\n",
              "      <th>6</th>\n",
              "      <td>tour_1007</td>\n",
              "      <td>SOUTH AFRICA</td>\n",
              "      <td>45-64</td>\n",
              "      <td>Alone</td>\n",
              "      <td>0.0</td>\n",
              "      <td>1.0</td>\n",
              "      <td>Business</td>\n",
              "      <td>Mountain climbing</td>\n",
              "      <td>Friends, relatives</td>\n",
              "      <td>Independent</td>\n",
              "      <td>No</td>\n",
              "      <td>No</td>\n",
              "      <td>No</td>\n",
              "      <td>No</td>\n",
              "      <td>No</td>\n",
              "      <td>No</td>\n",
              "      <td>No</td>\n",
              "      <td>9</td>\n",
              "      <td>0</td>\n",
              "      <td>Cash</td>\n",
              "      <td>Yes</td>\n",
              "      <td>Friendly People</td>\n",
              "      <td>466140.0</td>\n",
              "    </tr>\n",
              "    <tr>\n",
              "      <th>7</th>\n",
              "      <td>tour_1008</td>\n",
              "      <td>UNITED STATES OF AMERICA</td>\n",
              "      <td>45-64</td>\n",
              "      <td>Friends/Relatives</td>\n",
              "      <td>1.0</td>\n",
              "      <td>1.0</td>\n",
              "      <td>Leisure and Holidays</td>\n",
              "      <td>Wildlife tourism</td>\n",
              "      <td>Travel, agent, tour operator</td>\n",
              "      <td>Package Tour</td>\n",
              "      <td>Yes</td>\n",
              "      <td>Yes</td>\n",
              "      <td>Yes</td>\n",
              "      <td>Yes</td>\n",
              "      <td>Yes</td>\n",
              "      <td>Yes</td>\n",
              "      <td>Yes</td>\n",
              "      <td>10</td>\n",
              "      <td>3</td>\n",
              "      <td>Cash</td>\n",
              "      <td>Yes</td>\n",
              "      <td>Friendly People</td>\n",
              "      <td>3480750.0</td>\n",
              "    </tr>\n",
              "    <tr>\n",
              "      <th>8</th>\n",
              "      <td>tour_101</td>\n",
              "      <td>NIGERIA</td>\n",
              "      <td>25-44</td>\n",
              "      <td>Alone</td>\n",
              "      <td>0.0</td>\n",
              "      <td>1.0</td>\n",
              "      <td>Leisure and Holidays</td>\n",
              "      <td>Cultural tourism</td>\n",
              "      <td>Travel, agent, tour operator</td>\n",
              "      <td>Independent</td>\n",
              "      <td>No</td>\n",
              "      <td>No</td>\n",
              "      <td>No</td>\n",
              "      <td>No</td>\n",
              "      <td>No</td>\n",
              "      <td>No</td>\n",
              "      <td>No</td>\n",
              "      <td>4</td>\n",
              "      <td>0</td>\n",
              "      <td>Cash</td>\n",
              "      <td>Yes</td>\n",
              "      <td>NaN</td>\n",
              "      <td>994500.0</td>\n",
              "    </tr>\n",
              "    <tr>\n",
              "      <th>9</th>\n",
              "      <td>tour_1011</td>\n",
              "      <td>INDIA</td>\n",
              "      <td>25-44</td>\n",
              "      <td>Alone</td>\n",
              "      <td>1.0</td>\n",
              "      <td>0.0</td>\n",
              "      <td>Business</td>\n",
              "      <td>Wildlife tourism</td>\n",
              "      <td>Travel, agent, tour operator</td>\n",
              "      <td>Independent</td>\n",
              "      <td>No</td>\n",
              "      <td>No</td>\n",
              "      <td>No</td>\n",
              "      <td>No</td>\n",
              "      <td>No</td>\n",
              "      <td>No</td>\n",
              "      <td>No</td>\n",
              "      <td>5</td>\n",
              "      <td>0</td>\n",
              "      <td>Credit Card</td>\n",
              "      <td>Yes</td>\n",
              "      <td>Friendly People</td>\n",
              "      <td>2486250.0</td>\n",
              "    </tr>\n",
              "  </tbody>\n",
              "</table>\n",
              "</div>\n",
              "      <button class=\"colab-df-convert\" onclick=\"convertToInteractive('df-d60aa969-1e13-4bfb-8e91-d50b9eacdf21')\"\n",
              "              title=\"Convert this dataframe to an interactive table.\"\n",
              "              style=\"display:none;\">\n",
              "        \n",
              "  <svg xmlns=\"http://www.w3.org/2000/svg\" height=\"24px\"viewBox=\"0 0 24 24\"\n",
              "       width=\"24px\">\n",
              "    <path d=\"M0 0h24v24H0V0z\" fill=\"none\"/>\n",
              "    <path d=\"M18.56 5.44l.94 2.06.94-2.06 2.06-.94-2.06-.94-.94-2.06-.94 2.06-2.06.94zm-11 1L8.5 8.5l.94-2.06 2.06-.94-2.06-.94L8.5 2.5l-.94 2.06-2.06.94zm10 10l.94 2.06.94-2.06 2.06-.94-2.06-.94-.94-2.06-.94 2.06-2.06.94z\"/><path d=\"M17.41 7.96l-1.37-1.37c-.4-.4-.92-.59-1.43-.59-.52 0-1.04.2-1.43.59L10.3 9.45l-7.72 7.72c-.78.78-.78 2.05 0 2.83L4 21.41c.39.39.9.59 1.41.59.51 0 1.02-.2 1.41-.59l7.78-7.78 2.81-2.81c.8-.78.8-2.07 0-2.86zM5.41 20L4 18.59l7.72-7.72 1.47 1.35L5.41 20z\"/>\n",
              "  </svg>\n",
              "      </button>\n",
              "      \n",
              "  <style>\n",
              "    .colab-df-container {\n",
              "      display:flex;\n",
              "      flex-wrap:wrap;\n",
              "      gap: 12px;\n",
              "    }\n",
              "\n",
              "    .colab-df-convert {\n",
              "      background-color: #E8F0FE;\n",
              "      border: none;\n",
              "      border-radius: 50%;\n",
              "      cursor: pointer;\n",
              "      display: none;\n",
              "      fill: #1967D2;\n",
              "      height: 32px;\n",
              "      padding: 0 0 0 0;\n",
              "      width: 32px;\n",
              "    }\n",
              "\n",
              "    .colab-df-convert:hover {\n",
              "      background-color: #E2EBFA;\n",
              "      box-shadow: 0px 1px 2px rgba(60, 64, 67, 0.3), 0px 1px 3px 1px rgba(60, 64, 67, 0.15);\n",
              "      fill: #174EA6;\n",
              "    }\n",
              "\n",
              "    [theme=dark] .colab-df-convert {\n",
              "      background-color: #3B4455;\n",
              "      fill: #D2E3FC;\n",
              "    }\n",
              "\n",
              "    [theme=dark] .colab-df-convert:hover {\n",
              "      background-color: #434B5C;\n",
              "      box-shadow: 0px 1px 3px 1px rgba(0, 0, 0, 0.15);\n",
              "      filter: drop-shadow(0px 1px 2px rgba(0, 0, 0, 0.3));\n",
              "      fill: #FFFFFF;\n",
              "    }\n",
              "  </style>\n",
              "\n",
              "      <script>\n",
              "        const buttonEl =\n",
              "          document.querySelector('#df-d60aa969-1e13-4bfb-8e91-d50b9eacdf21 button.colab-df-convert');\n",
              "        buttonEl.style.display =\n",
              "          google.colab.kernel.accessAllowed ? 'block' : 'none';\n",
              "\n",
              "        async function convertToInteractive(key) {\n",
              "          const element = document.querySelector('#df-d60aa969-1e13-4bfb-8e91-d50b9eacdf21');\n",
              "          const dataTable =\n",
              "            await google.colab.kernel.invokeFunction('convertToInteractive',\n",
              "                                                     [key], {});\n",
              "          if (!dataTable) return;\n",
              "\n",
              "          const docLinkHtml = 'Like what you see? Visit the ' +\n",
              "            '<a target=\"_blank\" href=https://colab.research.google.com/notebooks/data_table.ipynb>data table notebook</a>'\n",
              "            + ' to learn more about interactive tables.';\n",
              "          element.innerHTML = '';\n",
              "          dataTable['output_type'] = 'display_data';\n",
              "          await google.colab.output.renderOutput(dataTable, element);\n",
              "          const docLink = document.createElement('div');\n",
              "          docLink.innerHTML = docLinkHtml;\n",
              "          element.appendChild(docLink);\n",
              "        }\n",
              "      </script>\n",
              "    </div>\n",
              "  </div>\n",
              "  "
            ],
            "text/plain": [
              "          ID  ... total_cost\n",
              "0     tour_0  ...   674602.5\n",
              "1    tour_10  ...  3214906.5\n",
              "2  tour_1000  ...  3315000.0\n",
              "3  tour_1002  ...  7790250.0\n",
              "4  tour_1004  ...  1657500.0\n",
              "5  tour_1005  ...   120950.0\n",
              "6  tour_1007  ...   466140.0\n",
              "7  tour_1008  ...  3480750.0\n",
              "8   tour_101  ...   994500.0\n",
              "9  tour_1011  ...  2486250.0\n",
              "\n",
              "[10 rows x 23 columns]"
            ]
          },
          "metadata": {},
          "execution_count": 52
        }
      ]
    },
    {
      "cell_type": "code",
      "source": [
        "# We will fill missing values in total female and total male with 0\n",
        "tourism['total_female'].fillna(0.0, inplace = True)\n",
        "tourism['total_male'].fillna(0.0, inplace = True)"
      ],
      "metadata": {
        "id": "XfAcmmGsiLKd"
      },
      "execution_count": null,
      "outputs": []
    },
    {
      "cell_type": "code",
      "source": [
        "# Drop columns that we will not use in our analysis\n",
        "tourism.drop(['most_impressing','info_source'],axis=1, inplace=True)\n",
        "# Confirm changes\n",
        "tourism.head()"
      ],
      "metadata": {
        "colab": {
          "base_uri": "https://localhost:8080/",
          "height": 461
        },
        "id": "OFoTw9sgkGa7",
        "outputId": "83f5850e-1b61-457a-c1a8-16dca85c341e"
      },
      "execution_count": null,
      "outputs": [
        {
          "output_type": "execute_result",
          "data": {
            "text/html": [
              "\n",
              "  <div id=\"df-f7fa5b33-3718-48e1-af27-96bc645ea051\">\n",
              "    <div class=\"colab-df-container\">\n",
              "      <div>\n",
              "<style scoped>\n",
              "    .dataframe tbody tr th:only-of-type {\n",
              "        vertical-align: middle;\n",
              "    }\n",
              "\n",
              "    .dataframe tbody tr th {\n",
              "        vertical-align: top;\n",
              "    }\n",
              "\n",
              "    .dataframe thead th {\n",
              "        text-align: right;\n",
              "    }\n",
              "</style>\n",
              "<table border=\"1\" class=\"dataframe\">\n",
              "  <thead>\n",
              "    <tr style=\"text-align: right;\">\n",
              "      <th></th>\n",
              "      <th>ID</th>\n",
              "      <th>country</th>\n",
              "      <th>age_group</th>\n",
              "      <th>travel_with</th>\n",
              "      <th>total_female</th>\n",
              "      <th>total_male</th>\n",
              "      <th>purpose</th>\n",
              "      <th>main_activity</th>\n",
              "      <th>tour_arrangement</th>\n",
              "      <th>package_transport_int</th>\n",
              "      <th>package_accomodation</th>\n",
              "      <th>package_food</th>\n",
              "      <th>package_transport_tz</th>\n",
              "      <th>package_sightseeing</th>\n",
              "      <th>package_guided_tour</th>\n",
              "      <th>package_insurance</th>\n",
              "      <th>night_mainland</th>\n",
              "      <th>night_zanzibar</th>\n",
              "      <th>payment_mode</th>\n",
              "      <th>first_trip_tz</th>\n",
              "      <th>total_cost</th>\n",
              "    </tr>\n",
              "  </thead>\n",
              "  <tbody>\n",
              "    <tr>\n",
              "      <th>0</th>\n",
              "      <td>tour_0</td>\n",
              "      <td>SWIZERLAND</td>\n",
              "      <td>45-64</td>\n",
              "      <td>Friends/Relatives</td>\n",
              "      <td>1.0</td>\n",
              "      <td>1.0</td>\n",
              "      <td>Leisure and Holidays</td>\n",
              "      <td>Wildlife tourism</td>\n",
              "      <td>Independent</td>\n",
              "      <td>No</td>\n",
              "      <td>No</td>\n",
              "      <td>No</td>\n",
              "      <td>No</td>\n",
              "      <td>No</td>\n",
              "      <td>No</td>\n",
              "      <td>No</td>\n",
              "      <td>13</td>\n",
              "      <td>0</td>\n",
              "      <td>Cash</td>\n",
              "      <td>No</td>\n",
              "      <td>674602.5</td>\n",
              "    </tr>\n",
              "    <tr>\n",
              "      <th>1</th>\n",
              "      <td>tour_10</td>\n",
              "      <td>UNITED KINGDOM</td>\n",
              "      <td>25-44</td>\n",
              "      <td>DNS</td>\n",
              "      <td>1.0</td>\n",
              "      <td>0.0</td>\n",
              "      <td>Leisure and Holidays</td>\n",
              "      <td>Cultural tourism</td>\n",
              "      <td>Independent</td>\n",
              "      <td>No</td>\n",
              "      <td>No</td>\n",
              "      <td>No</td>\n",
              "      <td>No</td>\n",
              "      <td>No</td>\n",
              "      <td>No</td>\n",
              "      <td>No</td>\n",
              "      <td>14</td>\n",
              "      <td>7</td>\n",
              "      <td>Cash</td>\n",
              "      <td>Yes</td>\n",
              "      <td>3214906.5</td>\n",
              "    </tr>\n",
              "    <tr>\n",
              "      <th>2</th>\n",
              "      <td>tour_1000</td>\n",
              "      <td>UNITED KINGDOM</td>\n",
              "      <td>25-44</td>\n",
              "      <td>Alone</td>\n",
              "      <td>0.0</td>\n",
              "      <td>1.0</td>\n",
              "      <td>Visiting Friends and Relatives</td>\n",
              "      <td>Cultural tourism</td>\n",
              "      <td>Independent</td>\n",
              "      <td>No</td>\n",
              "      <td>No</td>\n",
              "      <td>No</td>\n",
              "      <td>No</td>\n",
              "      <td>No</td>\n",
              "      <td>No</td>\n",
              "      <td>No</td>\n",
              "      <td>1</td>\n",
              "      <td>31</td>\n",
              "      <td>Cash</td>\n",
              "      <td>No</td>\n",
              "      <td>3315000.0</td>\n",
              "    </tr>\n",
              "    <tr>\n",
              "      <th>3</th>\n",
              "      <td>tour_1002</td>\n",
              "      <td>UNITED KINGDOM</td>\n",
              "      <td>25-44</td>\n",
              "      <td>Spouse</td>\n",
              "      <td>1.0</td>\n",
              "      <td>1.0</td>\n",
              "      <td>Leisure and Holidays</td>\n",
              "      <td>Wildlife tourism</td>\n",
              "      <td>Package Tour</td>\n",
              "      <td>No</td>\n",
              "      <td>Yes</td>\n",
              "      <td>Yes</td>\n",
              "      <td>Yes</td>\n",
              "      <td>Yes</td>\n",
              "      <td>Yes</td>\n",
              "      <td>No</td>\n",
              "      <td>11</td>\n",
              "      <td>0</td>\n",
              "      <td>Cash</td>\n",
              "      <td>Yes</td>\n",
              "      <td>7790250.0</td>\n",
              "    </tr>\n",
              "    <tr>\n",
              "      <th>4</th>\n",
              "      <td>tour_1004</td>\n",
              "      <td>CHINA</td>\n",
              "      <td>Jan-24</td>\n",
              "      <td>DNS</td>\n",
              "      <td>1.0</td>\n",
              "      <td>0.0</td>\n",
              "      <td>Leisure and Holidays</td>\n",
              "      <td>Wildlife tourism</td>\n",
              "      <td>Independent</td>\n",
              "      <td>No</td>\n",
              "      <td>No</td>\n",
              "      <td>No</td>\n",
              "      <td>No</td>\n",
              "      <td>No</td>\n",
              "      <td>No</td>\n",
              "      <td>No</td>\n",
              "      <td>7</td>\n",
              "      <td>4</td>\n",
              "      <td>Cash</td>\n",
              "      <td>Yes</td>\n",
              "      <td>1657500.0</td>\n",
              "    </tr>\n",
              "  </tbody>\n",
              "</table>\n",
              "</div>\n",
              "      <button class=\"colab-df-convert\" onclick=\"convertToInteractive('df-f7fa5b33-3718-48e1-af27-96bc645ea051')\"\n",
              "              title=\"Convert this dataframe to an interactive table.\"\n",
              "              style=\"display:none;\">\n",
              "        \n",
              "  <svg xmlns=\"http://www.w3.org/2000/svg\" height=\"24px\"viewBox=\"0 0 24 24\"\n",
              "       width=\"24px\">\n",
              "    <path d=\"M0 0h24v24H0V0z\" fill=\"none\"/>\n",
              "    <path d=\"M18.56 5.44l.94 2.06.94-2.06 2.06-.94-2.06-.94-.94-2.06-.94 2.06-2.06.94zm-11 1L8.5 8.5l.94-2.06 2.06-.94-2.06-.94L8.5 2.5l-.94 2.06-2.06.94zm10 10l.94 2.06.94-2.06 2.06-.94-2.06-.94-.94-2.06-.94 2.06-2.06.94z\"/><path d=\"M17.41 7.96l-1.37-1.37c-.4-.4-.92-.59-1.43-.59-.52 0-1.04.2-1.43.59L10.3 9.45l-7.72 7.72c-.78.78-.78 2.05 0 2.83L4 21.41c.39.39.9.59 1.41.59.51 0 1.02-.2 1.41-.59l7.78-7.78 2.81-2.81c.8-.78.8-2.07 0-2.86zM5.41 20L4 18.59l7.72-7.72 1.47 1.35L5.41 20z\"/>\n",
              "  </svg>\n",
              "      </button>\n",
              "      \n",
              "  <style>\n",
              "    .colab-df-container {\n",
              "      display:flex;\n",
              "      flex-wrap:wrap;\n",
              "      gap: 12px;\n",
              "    }\n",
              "\n",
              "    .colab-df-convert {\n",
              "      background-color: #E8F0FE;\n",
              "      border: none;\n",
              "      border-radius: 50%;\n",
              "      cursor: pointer;\n",
              "      display: none;\n",
              "      fill: #1967D2;\n",
              "      height: 32px;\n",
              "      padding: 0 0 0 0;\n",
              "      width: 32px;\n",
              "    }\n",
              "\n",
              "    .colab-df-convert:hover {\n",
              "      background-color: #E2EBFA;\n",
              "      box-shadow: 0px 1px 2px rgba(60, 64, 67, 0.3), 0px 1px 3px 1px rgba(60, 64, 67, 0.15);\n",
              "      fill: #174EA6;\n",
              "    }\n",
              "\n",
              "    [theme=dark] .colab-df-convert {\n",
              "      background-color: #3B4455;\n",
              "      fill: #D2E3FC;\n",
              "    }\n",
              "\n",
              "    [theme=dark] .colab-df-convert:hover {\n",
              "      background-color: #434B5C;\n",
              "      box-shadow: 0px 1px 3px 1px rgba(0, 0, 0, 0.15);\n",
              "      filter: drop-shadow(0px 1px 2px rgba(0, 0, 0, 0.3));\n",
              "      fill: #FFFFFF;\n",
              "    }\n",
              "  </style>\n",
              "\n",
              "      <script>\n",
              "        const buttonEl =\n",
              "          document.querySelector('#df-f7fa5b33-3718-48e1-af27-96bc645ea051 button.colab-df-convert');\n",
              "        buttonEl.style.display =\n",
              "          google.colab.kernel.accessAllowed ? 'block' : 'none';\n",
              "\n",
              "        async function convertToInteractive(key) {\n",
              "          const element = document.querySelector('#df-f7fa5b33-3718-48e1-af27-96bc645ea051');\n",
              "          const dataTable =\n",
              "            await google.colab.kernel.invokeFunction('convertToInteractive',\n",
              "                                                     [key], {});\n",
              "          if (!dataTable) return;\n",
              "\n",
              "          const docLinkHtml = 'Like what you see? Visit the ' +\n",
              "            '<a target=\"_blank\" href=https://colab.research.google.com/notebooks/data_table.ipynb>data table notebook</a>'\n",
              "            + ' to learn more about interactive tables.';\n",
              "          element.innerHTML = '';\n",
              "          dataTable['output_type'] = 'display_data';\n",
              "          await google.colab.output.renderOutput(dataTable, element);\n",
              "          const docLink = document.createElement('div');\n",
              "          docLink.innerHTML = docLinkHtml;\n",
              "          element.appendChild(docLink);\n",
              "        }\n",
              "      </script>\n",
              "    </div>\n",
              "  </div>\n",
              "  "
            ],
            "text/plain": [
              "          ID         country age_group  ... payment_mode  first_trip_tz  total_cost\n",
              "0     tour_0      SWIZERLAND     45-64  ...         Cash             No    674602.5\n",
              "1    tour_10  UNITED KINGDOM     25-44  ...         Cash            Yes   3214906.5\n",
              "2  tour_1000  UNITED KINGDOM     25-44  ...         Cash             No   3315000.0\n",
              "3  tour_1002  UNITED KINGDOM     25-44  ...         Cash            Yes   7790250.0\n",
              "4  tour_1004           CHINA    Jan-24  ...         Cash            Yes   1657500.0\n",
              "\n",
              "[5 rows x 21 columns]"
            ]
          },
          "metadata": {},
          "execution_count": 54
        }
      ]
    },
    {
      "cell_type": "code",
      "source": [
        "# Final check for null values\n",
        "tourism.isnull().sum()"
      ],
      "metadata": {
        "colab": {
          "base_uri": "https://localhost:8080/"
        },
        "id": "rO4JMB62ksuB",
        "outputId": "4e4e169b-4fb1-4ebc-90e3-c903f44883da"
      },
      "execution_count": null,
      "outputs": [
        {
          "output_type": "execute_result",
          "data": {
            "text/plain": [
              "ID                       0\n",
              "country                  0\n",
              "age_group                0\n",
              "travel_with              0\n",
              "total_female             0\n",
              "total_male               0\n",
              "purpose                  0\n",
              "main_activity            0\n",
              "tour_arrangement         0\n",
              "package_transport_int    0\n",
              "package_accomodation     0\n",
              "package_food             0\n",
              "package_transport_tz     0\n",
              "package_sightseeing      0\n",
              "package_guided_tour      0\n",
              "package_insurance        0\n",
              "night_mainland           0\n",
              "night_zanzibar           0\n",
              "payment_mode             0\n",
              "first_trip_tz            0\n",
              "total_cost               0\n",
              "dtype: int64"
            ]
          },
          "metadata": {},
          "execution_count": 55
        }
      ]
    },
    {
      "cell_type": "markdown",
      "source": [
        "We have cleared our data of null values\n",
        "\n",
        "We chose to replace the missing values in travel with with DNS, we assumed that respondents chose not to give an answer.\n",
        "\n",
        "We chose to replace the null values in total male and total female with 0 because we assumed that they were not filled because they were not there."
      ],
      "metadata": {
        "id": "wZwvzQarlGRH"
      }
    },
    {
      "cell_type": "code",
      "source": [
        "# Duplicates\n",
        "tourism.duplicated().sum()"
      ],
      "metadata": {
        "colab": {
          "base_uri": "https://localhost:8080/"
        },
        "id": "9bWQLlStlycj",
        "outputId": "dce0b229-2e08-4bd8-9f42-5ca207e4b90c"
      },
      "execution_count": null,
      "outputs": [
        {
          "output_type": "execute_result",
          "data": {
            "text/plain": [
              "0"
            ]
          },
          "metadata": {},
          "execution_count": 56
        }
      ]
    },
    {
      "cell_type": "markdown",
      "source": [
        "We have no duplicate values"
      ],
      "metadata": {
        "id": "OJQ_yZrxmAK3"
      }
    },
    {
      "cell_type": "code",
      "source": [
        "tourism.columns"
      ],
      "metadata": {
        "colab": {
          "base_uri": "https://localhost:8080/"
        },
        "id": "9G7FBj_Snxwn",
        "outputId": "ddbcecda-8167-46b6-a9d9-c86331860a21"
      },
      "execution_count": null,
      "outputs": [
        {
          "output_type": "execute_result",
          "data": {
            "text/plain": [
              "Index(['ID', 'country', 'age_group', 'travel_with', 'total_female',\n",
              "       'total_male', 'purpose', 'main_activity', 'tour_arrangement',\n",
              "       'package_transport_int', 'package_accomodation', 'package_food',\n",
              "       'package_transport_tz', 'package_sightseeing', 'package_guided_tour',\n",
              "       'package_insurance', 'night_mainland', 'night_zanzibar', 'payment_mode',\n",
              "       'first_trip_tz', 'total_cost'],\n",
              "      dtype='object')"
            ]
          },
          "metadata": {},
          "execution_count": 58
        }
      ]
    },
    {
      "cell_type": "code",
      "source": [
        "# Check for any anomalies\n",
        "col = ['ID', 'country', 'age_group', 'travel_with', 'total_female',\n",
        "       'total_male', 'purpose', 'main_activity', 'tour_arrangement',\n",
        "       'package_transport_int', 'package_accomodation', 'package_food',\n",
        "       'package_transport_tz', 'package_sightseeing', 'package_guided_tour',\n",
        "       'package_insurance', 'night_mainland', 'night_zanzibar', 'payment_mode',\n",
        "       'first_trip_tz', 'total_cost']\n",
        "for i in col:\n",
        "  u = tourism[i].unique()\n",
        "  print('Unique values of ', i , 'is' , u)"
      ],
      "metadata": {
        "colab": {
          "base_uri": "https://localhost:8080/"
        },
        "id": "PEFJCh4answf",
        "outputId": "2159fd7f-993c-4827-e575-7a4f2d63be9e"
      },
      "execution_count": null,
      "outputs": [
        {
          "output_type": "stream",
          "name": "stdout",
          "text": [
            "Unique values of  ID is ['tour_0' 'tour_10' 'tour_1000' ... 'tour_995' 'tour_997' 'tour_999']\n",
            "Unique values of  country is ['SWIZERLAND' 'UNITED KINGDOM' 'CHINA' 'SOUTH AFRICA'\n",
            " 'UNITED STATES OF AMERICA' 'NIGERIA' 'INDIA' 'BRAZIL' 'CANADA' 'MALT'\n",
            " 'MOZAMBIQUE' 'RWANDA' 'AUSTRIA' 'MYANMAR' 'GERMANY' 'KENYA' 'ALGERIA'\n",
            " 'IRELAND' 'DENMARK' 'SPAIN' 'FRANCE' 'ITALY' 'EGYPT' 'QATAR' 'MALAWI'\n",
            " 'JAPAN' 'SWEDEN' 'NETHERLANDS' 'UAE' 'UGANDA' 'AUSTRALIA' 'YEMEN'\n",
            " 'NEW ZEALAND' 'BELGIUM' 'NORWAY' 'ZIMBABWE' 'ZAMBIA' 'CONGO' 'BURGARIA'\n",
            " 'PAKISTAN' 'GREECE' 'MAURITIUS' 'DRC' 'OMAN' 'PORTUGAL' 'KOREA'\n",
            " 'SWAZILAND' 'TUNISIA' 'KUWAIT' 'DOMINICA' 'ISRAEL' 'FINLAND'\n",
            " 'CZECH REPUBLIC' 'UKRAIN' 'ETHIOPIA' 'BURUNDI' 'SCOTLAND' 'RUSSIA'\n",
            " 'GHANA' 'NIGER' 'MALAYSIA' 'COLOMBIA' 'LUXEMBOURG' 'NEPAL' 'POLAND'\n",
            " 'SINGAPORE' 'LITHUANIA' 'HUNGARY' 'INDONESIA' 'TURKEY' 'TRINIDAD TOBACCO'\n",
            " 'IRAQ' 'SLOVENIA' 'UNITED ARAB EMIRATES' 'COMORO' 'SRI LANKA' 'IRAN'\n",
            " 'MONTENEGRO' 'ANGOLA' 'LEBANON' 'SLOVAKIA' 'ROMANIA' 'MEXICO' 'LATVIA'\n",
            " 'CROATIA' 'CAPE VERDE' 'SUDAN' 'COSTARICA' 'CHILE' 'NAMIBIA' 'TAIWAN'\n",
            " 'SERBIA' 'LESOTHO' 'GEORGIA' 'PHILIPINES' 'IVORY COAST' 'MADAGASCAR'\n",
            " 'DJIBOUT' 'CYPRUS' 'ARGENTINA' 'URUGUAY' 'MORROCO' 'THAILAND' 'BERMUDA'\n",
            " 'ESTONIA']\n",
            "Unique values of  age_group is ['45-64' '25-44' 'Jan-24' '65+']\n",
            "Unique values of  travel_with is ['Friends/Relatives' 'DNS' 'Alone' 'Spouse' 'Children'\n",
            " 'Spouse and Children']\n",
            "Unique values of  total_female is [ 1.  0.  2.  4.  3.  5. 12. 10.  6. 11.  7. 15.  9. 49.]\n",
            "Unique values of  total_male is [ 1.  0.  2.  3.  4.  5.  6. 15. 17.  7. 10. 12. 44.  9.]\n",
            "Unique values of  purpose is ['Leisure and Holidays' 'Visiting Friends and Relatives' 'Business'\n",
            " 'Meetings and Conference' 'Volunteering' 'Scientific and Academic'\n",
            " 'Other']\n",
            "Unique values of  main_activity is ['Wildlife tourism' 'Cultural tourism' 'Mountain climbing' 'Beach tourism'\n",
            " 'Conference tourism' 'Hunting tourism' 'Bird watching' 'business'\n",
            " 'Diving and Sport Fishing']\n",
            "Unique values of  tour_arrangement is ['Independent' 'Package Tour']\n",
            "Unique values of  package_transport_int is ['No' 'Yes']\n",
            "Unique values of  package_accomodation is ['No' 'Yes']\n",
            "Unique values of  package_food is ['No' 'Yes']\n",
            "Unique values of  package_transport_tz is ['No' 'Yes']\n",
            "Unique values of  package_sightseeing is ['No' 'Yes']\n",
            "Unique values of  package_guided_tour is ['No' 'Yes']\n",
            "Unique values of  package_insurance is ['No' 'Yes']\n",
            "Unique values of  night_mainland is [ 13  14   1  11   7   9  10   4   5  17  30   2   0  24   3  70  20  15\n",
            "  56  12   6  21  29  27  34  60  22 120  50  45  90  42  35  36  43  16\n",
            "  19  66  31  23  33  61  37  25  32  69  40  46  47 130  59  41  63  54\n",
            "  51  39  26  64  49  55  75  65  53 145]\n",
            "Unique values of  night_zanzibar is [ 0  7 31  4  3  2 11  6  5 10  1 30 13  9 15 21 14 12 25 35 60 16 19 24\n",
            " 27 17 22 43 33 23 26 50 61 20]\n",
            "Unique values of  payment_mode is ['Cash' 'Credit Card' 'Other' 'Travellers Cheque']\n",
            "Unique values of  first_trip_tz is ['No' 'Yes']\n",
            "Unique values of  total_cost is [  674602.5  3214906.5  3315000.  ...  3150580.  38339920.   2246636.7]\n"
          ]
        }
      ]
    },
    {
      "cell_type": "code",
      "source": [
        "# A anomaly noticed is Jan-24 in age group\n",
        "# We will replace it with 1-24 age group \n",
        "tourism['age_group'] = tourism['age_group'].replace(['Jan-24'],'1-24')"
      ],
      "metadata": {
        "id": "SvAARc6cpfx9"
      },
      "execution_count": null,
      "outputs": []
    },
    {
      "cell_type": "code",
      "source": [
        "# Confirm changes made\n",
        "tourism.head()"
      ],
      "metadata": {
        "colab": {
          "base_uri": "https://localhost:8080/",
          "height": 461
        },
        "id": "KdLTi8Oaq_Pr",
        "outputId": "a0ebb969-8349-49a6-a9f2-1bd509b3ba4d"
      },
      "execution_count": null,
      "outputs": [
        {
          "output_type": "execute_result",
          "data": {
            "text/html": [
              "\n",
              "  <div id=\"df-ef9b109b-0f54-4d71-9c6f-f8670c771eb9\">\n",
              "    <div class=\"colab-df-container\">\n",
              "      <div>\n",
              "<style scoped>\n",
              "    .dataframe tbody tr th:only-of-type {\n",
              "        vertical-align: middle;\n",
              "    }\n",
              "\n",
              "    .dataframe tbody tr th {\n",
              "        vertical-align: top;\n",
              "    }\n",
              "\n",
              "    .dataframe thead th {\n",
              "        text-align: right;\n",
              "    }\n",
              "</style>\n",
              "<table border=\"1\" class=\"dataframe\">\n",
              "  <thead>\n",
              "    <tr style=\"text-align: right;\">\n",
              "      <th></th>\n",
              "      <th>ID</th>\n",
              "      <th>country</th>\n",
              "      <th>age_group</th>\n",
              "      <th>travel_with</th>\n",
              "      <th>total_female</th>\n",
              "      <th>total_male</th>\n",
              "      <th>purpose</th>\n",
              "      <th>main_activity</th>\n",
              "      <th>tour_arrangement</th>\n",
              "      <th>package_transport_int</th>\n",
              "      <th>package_accomodation</th>\n",
              "      <th>package_food</th>\n",
              "      <th>package_transport_tz</th>\n",
              "      <th>package_sightseeing</th>\n",
              "      <th>package_guided_tour</th>\n",
              "      <th>package_insurance</th>\n",
              "      <th>night_mainland</th>\n",
              "      <th>night_zanzibar</th>\n",
              "      <th>payment_mode</th>\n",
              "      <th>first_trip_tz</th>\n",
              "      <th>total_cost</th>\n",
              "    </tr>\n",
              "  </thead>\n",
              "  <tbody>\n",
              "    <tr>\n",
              "      <th>0</th>\n",
              "      <td>tour_0</td>\n",
              "      <td>SWIZERLAND</td>\n",
              "      <td>45-64</td>\n",
              "      <td>Friends/Relatives</td>\n",
              "      <td>1.0</td>\n",
              "      <td>1.0</td>\n",
              "      <td>Leisure and Holidays</td>\n",
              "      <td>Wildlife tourism</td>\n",
              "      <td>Independent</td>\n",
              "      <td>No</td>\n",
              "      <td>No</td>\n",
              "      <td>No</td>\n",
              "      <td>No</td>\n",
              "      <td>No</td>\n",
              "      <td>No</td>\n",
              "      <td>No</td>\n",
              "      <td>13</td>\n",
              "      <td>0</td>\n",
              "      <td>Cash</td>\n",
              "      <td>No</td>\n",
              "      <td>674602.5</td>\n",
              "    </tr>\n",
              "    <tr>\n",
              "      <th>1</th>\n",
              "      <td>tour_10</td>\n",
              "      <td>UNITED KINGDOM</td>\n",
              "      <td>25-44</td>\n",
              "      <td>DNS</td>\n",
              "      <td>1.0</td>\n",
              "      <td>0.0</td>\n",
              "      <td>Leisure and Holidays</td>\n",
              "      <td>Cultural tourism</td>\n",
              "      <td>Independent</td>\n",
              "      <td>No</td>\n",
              "      <td>No</td>\n",
              "      <td>No</td>\n",
              "      <td>No</td>\n",
              "      <td>No</td>\n",
              "      <td>No</td>\n",
              "      <td>No</td>\n",
              "      <td>14</td>\n",
              "      <td>7</td>\n",
              "      <td>Cash</td>\n",
              "      <td>Yes</td>\n",
              "      <td>3214906.5</td>\n",
              "    </tr>\n",
              "    <tr>\n",
              "      <th>2</th>\n",
              "      <td>tour_1000</td>\n",
              "      <td>UNITED KINGDOM</td>\n",
              "      <td>25-44</td>\n",
              "      <td>Alone</td>\n",
              "      <td>0.0</td>\n",
              "      <td>1.0</td>\n",
              "      <td>Visiting Friends and Relatives</td>\n",
              "      <td>Cultural tourism</td>\n",
              "      <td>Independent</td>\n",
              "      <td>No</td>\n",
              "      <td>No</td>\n",
              "      <td>No</td>\n",
              "      <td>No</td>\n",
              "      <td>No</td>\n",
              "      <td>No</td>\n",
              "      <td>No</td>\n",
              "      <td>1</td>\n",
              "      <td>31</td>\n",
              "      <td>Cash</td>\n",
              "      <td>No</td>\n",
              "      <td>3315000.0</td>\n",
              "    </tr>\n",
              "    <tr>\n",
              "      <th>3</th>\n",
              "      <td>tour_1002</td>\n",
              "      <td>UNITED KINGDOM</td>\n",
              "      <td>25-44</td>\n",
              "      <td>Spouse</td>\n",
              "      <td>1.0</td>\n",
              "      <td>1.0</td>\n",
              "      <td>Leisure and Holidays</td>\n",
              "      <td>Wildlife tourism</td>\n",
              "      <td>Package Tour</td>\n",
              "      <td>No</td>\n",
              "      <td>Yes</td>\n",
              "      <td>Yes</td>\n",
              "      <td>Yes</td>\n",
              "      <td>Yes</td>\n",
              "      <td>Yes</td>\n",
              "      <td>No</td>\n",
              "      <td>11</td>\n",
              "      <td>0</td>\n",
              "      <td>Cash</td>\n",
              "      <td>Yes</td>\n",
              "      <td>7790250.0</td>\n",
              "    </tr>\n",
              "    <tr>\n",
              "      <th>4</th>\n",
              "      <td>tour_1004</td>\n",
              "      <td>CHINA</td>\n",
              "      <td>1-24</td>\n",
              "      <td>DNS</td>\n",
              "      <td>1.0</td>\n",
              "      <td>0.0</td>\n",
              "      <td>Leisure and Holidays</td>\n",
              "      <td>Wildlife tourism</td>\n",
              "      <td>Independent</td>\n",
              "      <td>No</td>\n",
              "      <td>No</td>\n",
              "      <td>No</td>\n",
              "      <td>No</td>\n",
              "      <td>No</td>\n",
              "      <td>No</td>\n",
              "      <td>No</td>\n",
              "      <td>7</td>\n",
              "      <td>4</td>\n",
              "      <td>Cash</td>\n",
              "      <td>Yes</td>\n",
              "      <td>1657500.0</td>\n",
              "    </tr>\n",
              "  </tbody>\n",
              "</table>\n",
              "</div>\n",
              "      <button class=\"colab-df-convert\" onclick=\"convertToInteractive('df-ef9b109b-0f54-4d71-9c6f-f8670c771eb9')\"\n",
              "              title=\"Convert this dataframe to an interactive table.\"\n",
              "              style=\"display:none;\">\n",
              "        \n",
              "  <svg xmlns=\"http://www.w3.org/2000/svg\" height=\"24px\"viewBox=\"0 0 24 24\"\n",
              "       width=\"24px\">\n",
              "    <path d=\"M0 0h24v24H0V0z\" fill=\"none\"/>\n",
              "    <path d=\"M18.56 5.44l.94 2.06.94-2.06 2.06-.94-2.06-.94-.94-2.06-.94 2.06-2.06.94zm-11 1L8.5 8.5l.94-2.06 2.06-.94-2.06-.94L8.5 2.5l-.94 2.06-2.06.94zm10 10l.94 2.06.94-2.06 2.06-.94-2.06-.94-.94-2.06-.94 2.06-2.06.94z\"/><path d=\"M17.41 7.96l-1.37-1.37c-.4-.4-.92-.59-1.43-.59-.52 0-1.04.2-1.43.59L10.3 9.45l-7.72 7.72c-.78.78-.78 2.05 0 2.83L4 21.41c.39.39.9.59 1.41.59.51 0 1.02-.2 1.41-.59l7.78-7.78 2.81-2.81c.8-.78.8-2.07 0-2.86zM5.41 20L4 18.59l7.72-7.72 1.47 1.35L5.41 20z\"/>\n",
              "  </svg>\n",
              "      </button>\n",
              "      \n",
              "  <style>\n",
              "    .colab-df-container {\n",
              "      display:flex;\n",
              "      flex-wrap:wrap;\n",
              "      gap: 12px;\n",
              "    }\n",
              "\n",
              "    .colab-df-convert {\n",
              "      background-color: #E8F0FE;\n",
              "      border: none;\n",
              "      border-radius: 50%;\n",
              "      cursor: pointer;\n",
              "      display: none;\n",
              "      fill: #1967D2;\n",
              "      height: 32px;\n",
              "      padding: 0 0 0 0;\n",
              "      width: 32px;\n",
              "    }\n",
              "\n",
              "    .colab-df-convert:hover {\n",
              "      background-color: #E2EBFA;\n",
              "      box-shadow: 0px 1px 2px rgba(60, 64, 67, 0.3), 0px 1px 3px 1px rgba(60, 64, 67, 0.15);\n",
              "      fill: #174EA6;\n",
              "    }\n",
              "\n",
              "    [theme=dark] .colab-df-convert {\n",
              "      background-color: #3B4455;\n",
              "      fill: #D2E3FC;\n",
              "    }\n",
              "\n",
              "    [theme=dark] .colab-df-convert:hover {\n",
              "      background-color: #434B5C;\n",
              "      box-shadow: 0px 1px 3px 1px rgba(0, 0, 0, 0.15);\n",
              "      filter: drop-shadow(0px 1px 2px rgba(0, 0, 0, 0.3));\n",
              "      fill: #FFFFFF;\n",
              "    }\n",
              "  </style>\n",
              "\n",
              "      <script>\n",
              "        const buttonEl =\n",
              "          document.querySelector('#df-ef9b109b-0f54-4d71-9c6f-f8670c771eb9 button.colab-df-convert');\n",
              "        buttonEl.style.display =\n",
              "          google.colab.kernel.accessAllowed ? 'block' : 'none';\n",
              "\n",
              "        async function convertToInteractive(key) {\n",
              "          const element = document.querySelector('#df-ef9b109b-0f54-4d71-9c6f-f8670c771eb9');\n",
              "          const dataTable =\n",
              "            await google.colab.kernel.invokeFunction('convertToInteractive',\n",
              "                                                     [key], {});\n",
              "          if (!dataTable) return;\n",
              "\n",
              "          const docLinkHtml = 'Like what you see? Visit the ' +\n",
              "            '<a target=\"_blank\" href=https://colab.research.google.com/notebooks/data_table.ipynb>data table notebook</a>'\n",
              "            + ' to learn more about interactive tables.';\n",
              "          element.innerHTML = '';\n",
              "          dataTable['output_type'] = 'display_data';\n",
              "          await google.colab.output.renderOutput(dataTable, element);\n",
              "          const docLink = document.createElement('div');\n",
              "          docLink.innerHTML = docLinkHtml;\n",
              "          element.appendChild(docLink);\n",
              "        }\n",
              "      </script>\n",
              "    </div>\n",
              "  </div>\n",
              "  "
            ],
            "text/plain": [
              "          ID         country age_group  ... payment_mode  first_trip_tz  total_cost\n",
              "0     tour_0      SWIZERLAND     45-64  ...         Cash             No    674602.5\n",
              "1    tour_10  UNITED KINGDOM     25-44  ...         Cash            Yes   3214906.5\n",
              "2  tour_1000  UNITED KINGDOM     25-44  ...         Cash             No   3315000.0\n",
              "3  tour_1002  UNITED KINGDOM     25-44  ...         Cash            Yes   7790250.0\n",
              "4  tour_1004           CHINA      1-24  ...         Cash            Yes   1657500.0\n",
              "\n",
              "[5 rows x 21 columns]"
            ]
          },
          "metadata": {},
          "execution_count": 66
        }
      ]
    },
    {
      "cell_type": "code",
      "source": [
        "tourism.dtypes"
      ],
      "metadata": {
        "colab": {
          "base_uri": "https://localhost:8080/"
        },
        "id": "QumeQXcZrbFM",
        "outputId": "a5c9a306-64a3-4292-b906-20c05cd426c9"
      },
      "execution_count": null,
      "outputs": [
        {
          "output_type": "execute_result",
          "data": {
            "text/plain": [
              "ID                        object\n",
              "country                   object\n",
              "age_group                 object\n",
              "travel_with               object\n",
              "total_female             float64\n",
              "total_male               float64\n",
              "purpose                   object\n",
              "main_activity             object\n",
              "tour_arrangement          object\n",
              "package_transport_int     object\n",
              "package_accomodation      object\n",
              "package_food              object\n",
              "package_transport_tz      object\n",
              "package_sightseeing       object\n",
              "package_guided_tour       object\n",
              "package_insurance         object\n",
              "night_mainland             int64\n",
              "night_zanzibar             int64\n",
              "payment_mode              object\n",
              "first_trip_tz             object\n",
              "total_cost               float64\n",
              "dtype: object"
            ]
          },
          "metadata": {},
          "execution_count": 67
        }
      ]
    },
    {
      "cell_type": "code",
      "source": [
        "tourism.columns"
      ],
      "metadata": {
        "colab": {
          "base_uri": "https://localhost:8080/"
        },
        "id": "OTH01cvOrk1r",
        "outputId": "0b92531b-36d0-47a2-dd4b-ec77ad34774c"
      },
      "execution_count": null,
      "outputs": [
        {
          "output_type": "execute_result",
          "data": {
            "text/plain": [
              "Index(['ID', 'country', 'age_group', 'travel_with', 'total_female',\n",
              "       'total_male', 'purpose', 'main_activity', 'tour_arrangement',\n",
              "       'package_transport_int', 'package_accomodation', 'package_food',\n",
              "       'package_transport_tz', 'package_sightseeing', 'package_guided_tour',\n",
              "       'package_insurance', 'night_mainland', 'night_zanzibar', 'payment_mode',\n",
              "       'first_trip_tz', 'total_cost'],\n",
              "      dtype='object')"
            ]
          },
          "metadata": {},
          "execution_count": 68
        }
      ]
    },
    {
      "cell_type": "code",
      "source": [
        "# Outliers\n",
        "col_names= ['total_male','total_female', 'night_mainland', 'night_zanzibar','total_cost']\n",
        "\n",
        "fig, ax = plt.subplots(len(col_names), figsize=(10,35))\n",
        "\n",
        "for i, col_val in enumerate(col_names):\n",
        "\n",
        "    sns.boxplot(y=tourism[col_val], ax=ax[i])\n",
        "    ax[i].set_title('Box plot for numerical variables - {}'.format(col_val), fontsize=12)\n",
        "    ax[i].set_xlabel(col_val, fontsize=12)\n",
        "\n",
        "plt.show()"
      ],
      "metadata": {
        "colab": {
          "base_uri": "https://localhost:8080/",
          "height": 1000
        },
        "id": "SO9yAxNarIBG",
        "outputId": "df17eb21-3d58-4fd8-a28c-16681ee5323e"
      },
      "execution_count": null,
      "outputs": [
        {
          "output_type": "display_data",
          "data": {
            "image/png": "[encoded data removed]",
            "text/plain": [
              "<Figure size 720x2520 with 5 Axes>"
            ]
          },
          "metadata": {
            "needs_background": "light"
          }
        }
      ]
    },
    {
      "cell_type": "code",
      "source": [
        "# Dealing with outliers\n",
        "# We will remove outliers\n",
        "Q1 = tourism.quantile(0.25)\n",
        "Q3 = tourism.quantile(0.75)\n",
        "IQR = Q3-Q1\n",
        "tourism_out = tourism[~((tourism<(Q1 - 1.5*IQR)) |(tourism> (Q3 + 1.5 * IQR))).any(axis= 1)]\n",
        "print(tourism_out)"
      ],
      "metadata": {
        "colab": {
          "base_uri": "https://localhost:8080/"
        },
        "id": "KWAl02w4ucDl",
        "outputId": "a624c0a1-09b9-41a6-d825-448ddf0bbb84"
      },
      "execution_count": null,
      "outputs": [
        {
          "output_type": "stream",
          "name": "stdout",
          "text": [
            "             ID                   country  ... first_trip_tz  total_cost\n",
            "0        tour_0                SWIZERLAND  ...            No    674602.5\n",
            "3     tour_1002            UNITED KINGDOM  ...           Yes   7790250.0\n",
            "5     tour_1005            UNITED KINGDOM  ...           Yes    120950.0\n",
            "6     tour_1007              SOUTH AFRICA  ...           Yes    466140.0\n",
            "7     tour_1008  UNITED STATES OF AMERICA  ...           Yes   3480750.0\n",
            "...         ...                       ...  ...           ...         ...\n",
            "4801   tour_989                     ITALY  ...           Yes   2269330.0\n",
            "4804   tour_993                       UAE  ...            No   3315000.0\n",
            "4805   tour_994  UNITED STATES OF AMERICA  ...           Yes  10690875.0\n",
            "4807   tour_997              SOUTH AFRICA  ...            No   1160250.0\n",
            "4808   tour_999            UNITED KINGDOM  ...           Yes  13260000.0\n",
            "\n",
            "[2448 rows x 21 columns]\n"
          ]
        }
      ]
    },
    {
      "cell_type": "markdown",
      "source": [
        "Outliers increase the variability in your data, which decreases statistical power.Excluding outliers can cause your results to become statistically significant"
      ],
      "metadata": {
        "id": "9mFSd2Kbx1TT"
      }
    },
    {
      "cell_type": "markdown",
      "source": [
        "#1.3. Exploratory Data Analysis\n"
      ],
      "metadata": {
        "id": "maxtOpQiyRUF"
      }
    },
    {
      "cell_type": "markdown",
      "source": [
        "##Univariate Analysis"
      ],
      "metadata": {
        "id": "hdOTsIDVyhML"
      }
    },
    {
      "cell_type": "code",
      "source": [
        "# Frequency Table\n",
        "tourism_out.age_group.value_counts()"
      ],
      "metadata": {
        "id": "cWk9GapLzC49",
        "colab": {
          "base_uri": "https://localhost:8080/"
        },
        "outputId": "8bfe80c8-3620-4389-b110-385168de8675"
      },
      "execution_count": null,
      "outputs": [
        {
          "output_type": "execute_result",
          "data": {
            "text/plain": [
              "25-44    1399\n",
              "45-64     682\n",
              "1-24      225\n",
              "65+       142\n",
              "Name: age_group, dtype: int64"
            ]
          },
          "metadata": {},
          "execution_count": 89
        }
      ]
    },
    {
      "cell_type": "markdown",
      "source": [
        "Most tourists are between 25 and 44 years"
      ],
      "metadata": {
        "id": "7ZE3Sf6p9Cck"
      }
    },
    {
      "cell_type": "code",
      "source": [
        "# Frequency Table\n",
        "tourism_out['country'].value_counts().head()\n"
      ],
      "metadata": {
        "colab": {
          "base_uri": "https://localhost:8080/"
        },
        "id": "esuS5gjSB2RL",
        "outputId": "66616c3b-304b-4fe8-8379-97024a46d1bc"
      },
      "execution_count": null,
      "outputs": [
        {
          "output_type": "execute_result",
          "data": {
            "text/plain": [
              "UNITED STATES OF AMERICA    302\n",
              "UNITED KINGDOM              249\n",
              "ITALY                       226\n",
              "ZIMBABWE                    201\n",
              "KENYA                       138\n",
              "Name: country, dtype: int64"
            ]
          },
          "metadata": {},
          "execution_count": 97
        }
      ]
    },
    {
      "cell_type": "markdown",
      "source": [
        "Most tourists are from the United States of America"
      ],
      "metadata": {
        "id": "40QF3jbTCV12"
      }
    },
    {
      "cell_type": "code",
      "source": [
        "# Pie chart\n",
        "accounts = tourism_out['tour_arrangement'].value_counts()\n",
        "labels = accounts.index\n",
        "values = accounts.values\n",
        "\n",
        "plt.figure(figsize=(5,5), dpi=100)\n",
        "plt.pie(values, labels = labels, autopct='%1.1f%%', explode = (0.1,0), shadow=True, startangle=180)\n",
        "plt.title('Tour Arrangements', color='Red')\n",
        "plt.show()"
      ],
      "metadata": {
        "id": "wxUxdWEmzC1t",
        "colab": {
          "base_uri": "https://localhost:8080/",
          "height": 435
        },
        "outputId": "118882bc-deac-46ec-b51c-df054d721da2"
      },
      "execution_count": null,
      "outputs": [
        {
          "output_type": "display_data",
          "data": {
            "image/png": "[encoded data removed]",
            "text/plain": [
              "<Figure size 500x500 with 1 Axes>"
            ]
          },
          "metadata": {}
        }
      ]
    },
    {
      "cell_type": "markdown",
      "source": [
        "Less tourists use package tours"
      ],
      "metadata": {
        "id": "EwAHXpwV9RzC"
      }
    },
    {
      "cell_type": "code",
      "source": [
        "# Bar charts \n",
        "tourism_out.groupby('main_activity').size().plot(kind='bar')\n",
        "plt.title('Tourist Activity')\n",
        "plt.ylabel('Total')\n",
        "plt.xlabel('Activity')\n",
        "plt.show()"
      ],
      "metadata": {
        "id": "2FFXHBBAzCyR",
        "colab": {
          "base_uri": "https://localhost:8080/",
          "height": 406
        },
        "outputId": "ba955769-6b44-4c2e-d826-d208ac9d17c3"
      },
      "execution_count": null,
      "outputs": [
        {
          "output_type": "display_data",
          "data": {
            "image/png": "[encoded data removed]",
            "text/plain": [
              "<Figure size 432x288 with 1 Axes>"
            ]
          },
          "metadata": {
            "needs_background": "light"
          }
        }
      ]
    },
    {
      "cell_type": "markdown",
      "source": [
        "Wildlife tourism is the most popular tourist activity"
      ],
      "metadata": {
        "id": "BrsXRihlBE7Y"
      }
    },
    {
      "cell_type": "code",
      "source": [
        "# Bar charts \n",
        "tourism_out.groupby('purpose').size().plot(kind='bar')\n",
        "plt.title('Purpose for Visit')\n",
        "plt.ylabel('Total')\n",
        "plt.xlabel('Purpose')\n",
        "plt.show()"
      ],
      "metadata": {
        "id": "Hi5FZTrmzCm4",
        "colab": {
          "base_uri": "https://localhost:8080/",
          "height": 432
        },
        "outputId": "1dfdc06c-fb57-4837-ca15-433eb7563a07"
      },
      "execution_count": null,
      "outputs": [
        {
          "output_type": "display_data",
          "data": {
            "image/png": "[encoded data removed]",
            "text/plain": [
              "<Figure size 432x288 with 1 Axes>"
            ]
          },
          "metadata": {
            "needs_background": "light"
          }
        }
      ]
    },
    {
      "cell_type": "markdown",
      "source": [
        "Most tourists visit for leisure and holidays"
      ],
      "metadata": {
        "id": "tNLjx14MClKb"
      }
    },
    {
      "cell_type": "code",
      "source": [
        "plt.figure(figsize = (10, 5), dpi=100)\n",
        "sns.countplot(tourism_out['night_mainland'])\n",
        "plt.title('Night Spent on Mainland Tanzania')\n",
        "plt.ylabel('Count')\n",
        "plt.show"
      ],
      "metadata": {
        "colab": {
          "base_uri": "https://localhost:8080/",
          "height": 555
        },
        "id": "ZxsOuhSlDGBx",
        "outputId": "afce2dec-3927-46ae-a558-c0bad4b1ee32"
      },
      "execution_count": null,
      "outputs": [
        {
          "output_type": "stream",
          "name": "stderr",
          "text": [
            "/usr/local/lib/python3.7/dist-packages/seaborn/_decorators.py:43: FutureWarning: Pass the following variable as a keyword arg: x. From version 0.12, the only valid positional argument will be `data`, and passing other arguments without an explicit keyword will result in an error or misinterpretation.\n",
            "  FutureWarning\n"
          ]
        },
        {
          "output_type": "execute_result",
          "data": {
            "text/plain": [
              "<function matplotlib.pyplot.show>"
            ]
          },
          "metadata": {},
          "execution_count": 114
        },
        {
          "output_type": "display_data",
          "data": {
            "image/png": "[encoded data removed]",
            "text/plain": [
              "<Figure size 1000x500 with 1 Axes>"
            ]
          },
          "metadata": {
            "needs_background": "light"
          }
        }
      ]
    },
    {
      "cell_type": "code",
      "source": [
        "plt.figure(figsize = (10,5), dpi=100)\n",
        "sns.countplot(tourism_out['night_zanzibar'])\n",
        "plt.title('Night Spent in Zanzibar')\n",
        "plt.ylabel('Count')\n",
        "plt.show"
      ],
      "metadata": {
        "colab": {
          "base_uri": "https://localhost:8080/",
          "height": 555
        },
        "id": "d1cecdHxDM0O",
        "outputId": "3f323360-b42a-4391-9c51-c0888c880ee7"
      },
      "execution_count": null,
      "outputs": [
        {
          "output_type": "stream",
          "name": "stderr",
          "text": [
            "/usr/local/lib/python3.7/dist-packages/seaborn/_decorators.py:43: FutureWarning: Pass the following variable as a keyword arg: x. From version 0.12, the only valid positional argument will be `data`, and passing other arguments without an explicit keyword will result in an error or misinterpretation.\n",
            "  FutureWarning\n"
          ]
        },
        {
          "output_type": "execute_result",
          "data": {
            "text/plain": [
              "<function matplotlib.pyplot.show>"
            ]
          },
          "metadata": {},
          "execution_count": 115
        },
        {
          "output_type": "display_data",
          "data": {
            "image/png": "[encoded data removed]",
            "text/plain": [
              "<Figure size 1000x500 with 1 Axes>"
            ]
          },
          "metadata": {
            "needs_background": "light"
          }
        }
      ]
    },
    {
      "cell_type": "code",
      "source": [
        "# Histogram of total female\n",
        "plt.figure(dpi = 100)\n",
        "sns.distplot(tourism_out[\"total_female\"], kde = False, color = 'green', bins=5)\n",
        "plt.title(\"Total Female Traveled\", color = 'black')\n",
        "plt.show()"
      ],
      "metadata": {
        "colab": {
          "base_uri": "https://localhost:8080/",
          "height": 461
        },
        "id": "DWpk5NKjDjKI",
        "outputId": "83306e3d-8ab2-4638-9da2-45c9ca926353"
      },
      "execution_count": null,
      "outputs": [
        {
          "output_type": "stream",
          "name": "stderr",
          "text": [
            "/usr/local/lib/python3.7/dist-packages/seaborn/distributions.py:2619: FutureWarning: `distplot` is a deprecated function and will be removed in a future version. Please adapt your code to use either `displot` (a figure-level function with similar flexibility) or `histplot` (an axes-level function for histograms).\n",
            "  warnings.warn(msg, FutureWarning)\n"
          ]
        },
        {
          "output_type": "display_data",
          "data": {
            "image/png": "[encoded data removed]",
            "text/plain": [
              "<Figure size 600x400 with 1 Axes>"
            ]
          },
          "metadata": {
            "needs_background": "light"
          }
        }
      ]
    },
    {
      "cell_type": "code",
      "source": [
        "# Histogram of total male \n",
        "plt.figure(dpi = 100)\n",
        "sns.distplot(tourism_out[\"total_male\"], kde = False, color = 'green')\n",
        "plt.title(\"Total Male Traveled\", color = 'Black')\n",
        "plt.show()"
      ],
      "metadata": {
        "colab": {
          "base_uri": "https://localhost:8080/",
          "height": 461
        },
        "id": "p6zThUBXE4od",
        "outputId": "b852f5bb-de42-4828-8f4d-3bf2849a4faa"
      },
      "execution_count": null,
      "outputs": [
        {
          "output_type": "stream",
          "name": "stderr",
          "text": [
            "/usr/local/lib/python3.7/dist-packages/seaborn/distributions.py:2619: FutureWarning: `distplot` is a deprecated function and will be removed in a future version. Please adapt your code to use either `displot` (a figure-level function with similar flexibility) or `histplot` (an axes-level function for histograms).\n",
            "  warnings.warn(msg, FutureWarning)\n"
          ]
        },
        {
          "output_type": "display_data",
          "data": {
            "image/png": "[encoded data removed]",
            "text/plain": [
              "<Figure size 600x400 with 1 Axes>"
            ]
          },
          "metadata": {
            "needs_background": "light"
          }
        }
      ]
    },
    {
      "cell_type": "code",
      "source": [
        "# We will define the numerical columns as cols to make the work easier\n",
        "cols = ['total_male','total_female', 'night_mainland', 'night_zanzibar', 'total_cost']\n",
        "# Finding the mean of numerical columns\n",
        "round(tourism_out[cols].mean(),3)"
      ],
      "metadata": {
        "colab": {
          "base_uri": "https://localhost:8080/"
        },
        "id": "XrOmzXb8HqDX",
        "outputId": "32618df7-a72e-40d2-e527-201cfee71c0d"
      },
      "execution_count": null,
      "outputs": [
        {
          "output_type": "execute_result",
          "data": {
            "text/plain": [
              "total_male              1.000\n",
              "total_female            0.507\n",
              "night_mainland          6.086\n",
              "night_zanzibar          1.751\n",
              "total_cost        4876564.888\n",
              "dtype: float64"
            ]
          },
          "metadata": {},
          "execution_count": 138
        }
      ]
    },
    {
      "cell_type": "code",
      "source": [
        "# Finding the mode of numerical columns\n",
        "tourism_out[cols].mode()"
      ],
      "metadata": {
        "colab": {
          "base_uri": "https://localhost:8080/",
          "height": 81
        },
        "id": "eBIGJqgdIJ0R",
        "outputId": "0bbaa78b-2474-477e-aab8-44a0695f9fa1"
      },
      "execution_count": null,
      "outputs": [
        {
          "output_type": "execute_result",
          "data": {
            "text/html": [
              "\n",
              "  <div id=\"df-d10d8462-5a2c-4f14-a89a-f2f0da53e8b7\">\n",
              "    <div class=\"colab-df-container\">\n",
              "      <div>\n",
              "<style scoped>\n",
              "    .dataframe tbody tr th:only-of-type {\n",
              "        vertical-align: middle;\n",
              "    }\n",
              "\n",
              "    .dataframe tbody tr th {\n",
              "        vertical-align: top;\n",
              "    }\n",
              "\n",
              "    .dataframe thead th {\n",
              "        text-align: right;\n",
              "    }\n",
              "</style>\n",
              "<table border=\"1\" class=\"dataframe\">\n",
              "  <thead>\n",
              "    <tr style=\"text-align: right;\">\n",
              "      <th></th>\n",
              "      <th>total_male</th>\n",
              "      <th>total_female</th>\n",
              "      <th>night_mainland</th>\n",
              "      <th>night_zanzibar</th>\n",
              "      <th>total_cost</th>\n",
              "    </tr>\n",
              "  </thead>\n",
              "  <tbody>\n",
              "    <tr>\n",
              "      <th>0</th>\n",
              "      <td>1.0</td>\n",
              "      <td>0.0</td>\n",
              "      <td>0</td>\n",
              "      <td>0</td>\n",
              "      <td>1657500.0</td>\n",
              "    </tr>\n",
              "  </tbody>\n",
              "</table>\n",
              "</div>\n",
              "      <button class=\"colab-df-convert\" onclick=\"convertToInteractive('df-d10d8462-5a2c-4f14-a89a-f2f0da53e8b7')\"\n",
              "              title=\"Convert this dataframe to an interactive table.\"\n",
              "              style=\"display:none;\">\n",
              "        \n",
              "  <svg xmlns=\"http://www.w3.org/2000/svg\" height=\"24px\"viewBox=\"0 0 24 24\"\n",
              "       width=\"24px\">\n",
              "    <path d=\"M0 0h24v24H0V0z\" fill=\"none\"/>\n",
              "    <path d=\"M18.56 5.44l.94 2.06.94-2.06 2.06-.94-2.06-.94-.94-2.06-.94 2.06-2.06.94zm-11 1L8.5 8.5l.94-2.06 2.06-.94-2.06-.94L8.5 2.5l-.94 2.06-2.06.94zm10 10l.94 2.06.94-2.06 2.06-.94-2.06-.94-.94-2.06-.94 2.06-2.06.94z\"/><path d=\"M17.41 7.96l-1.37-1.37c-.4-.4-.92-.59-1.43-.59-.52 0-1.04.2-1.43.59L10.3 9.45l-7.72 7.72c-.78.78-.78 2.05 0 2.83L4 21.41c.39.39.9.59 1.41.59.51 0 1.02-.2 1.41-.59l7.78-7.78 2.81-2.81c.8-.78.8-2.07 0-2.86zM5.41 20L4 18.59l7.72-7.72 1.47 1.35L5.41 20z\"/>\n",
              "  </svg>\n",
              "      </button>\n",
              "      \n",
              "  <style>\n",
              "    .colab-df-container {\n",
              "      display:flex;\n",
              "      flex-wrap:wrap;\n",
              "      gap: 12px;\n",
              "    }\n",
              "\n",
              "    .colab-df-convert {\n",
              "      background-color: #E8F0FE;\n",
              "      border: none;\n",
              "      border-radius: 50%;\n",
              "      cursor: pointer;\n",
              "      display: none;\n",
              "      fill: #1967D2;\n",
              "      height: 32px;\n",
              "      padding: 0 0 0 0;\n",
              "      width: 32px;\n",
              "    }\n",
              "\n",
              "    .colab-df-convert:hover {\n",
              "      background-color: #E2EBFA;\n",
              "      box-shadow: 0px 1px 2px rgba(60, 64, 67, 0.3), 0px 1px 3px 1px rgba(60, 64, 67, 0.15);\n",
              "      fill: #174EA6;\n",
              "    }\n",
              "\n",
              "    [theme=dark] .colab-df-convert {\n",
              "      background-color: #3B4455;\n",
              "      fill: #D2E3FC;\n",
              "    }\n",
              "\n",
              "    [theme=dark] .colab-df-convert:hover {\n",
              "      background-color: #434B5C;\n",
              "      box-shadow: 0px 1px 3px 1px rgba(0, 0, 0, 0.15);\n",
              "      filter: drop-shadow(0px 1px 2px rgba(0, 0, 0, 0.3));\n",
              "      fill: #FFFFFF;\n",
              "    }\n",
              "  </style>\n",
              "\n",
              "      <script>\n",
              "        const buttonEl =\n",
              "          document.querySelector('#df-d10d8462-5a2c-4f14-a89a-f2f0da53e8b7 button.colab-df-convert');\n",
              "        buttonEl.style.display =\n",
              "          google.colab.kernel.accessAllowed ? 'block' : 'none';\n",
              "\n",
              "        async function convertToInteractive(key) {\n",
              "          const element = document.querySelector('#df-d10d8462-5a2c-4f14-a89a-f2f0da53e8b7');\n",
              "          const dataTable =\n",
              "            await google.colab.kernel.invokeFunction('convertToInteractive',\n",
              "                                                     [key], {});\n",
              "          if (!dataTable) return;\n",
              "\n",
              "          const docLinkHtml = 'Like what you see? Visit the ' +\n",
              "            '<a target=\"_blank\" href=https://colab.research.google.com/notebooks/data_table.ipynb>data table notebook</a>'\n",
              "            + ' to learn more about interactive tables.';\n",
              "          element.innerHTML = '';\n",
              "          dataTable['output_type'] = 'display_data';\n",
              "          await google.colab.output.renderOutput(dataTable, element);\n",
              "          const docLink = document.createElement('div');\n",
              "          docLink.innerHTML = docLinkHtml;\n",
              "          element.appendChild(docLink);\n",
              "        }\n",
              "      </script>\n",
              "    </div>\n",
              "  </div>\n",
              "  "
            ],
            "text/plain": [
              "   total_male  total_female  night_mainland  night_zanzibar  total_cost\n",
              "0         1.0           0.0               0               0   1657500.0"
            ]
          },
          "metadata": {},
          "execution_count": 131
        }
      ]
    },
    {
      "cell_type": "code",
      "source": [
        "# Finding the median of numerical columns\n",
        "tourism_out[cols].median()"
      ],
      "metadata": {
        "colab": {
          "base_uri": "https://localhost:8080/"
        },
        "id": "s3jN2IlOISeb",
        "outputId": "10200c74-635f-4ee6-f507-f6102ecbdbab"
      },
      "execution_count": null,
      "outputs": [
        {
          "output_type": "execute_result",
          "data": {
            "text/plain": [
              "total_male              1.0\n",
              "total_female            0.0\n",
              "night_mainland          5.0\n",
              "night_zanzibar          0.0\n",
              "total_cost        2486250.0\n",
              "dtype: float64"
            ]
          },
          "metadata": {},
          "execution_count": 132
        }
      ]
    },
    {
      "cell_type": "code",
      "source": [
        "# Finding the quantiles of numerical columns\n",
        "tourism_out[cols].quantile([0.25, 0.75])"
      ],
      "metadata": {
        "colab": {
          "base_uri": "https://localhost:8080/",
          "height": 112
        },
        "id": "ArRaJE5-IakO",
        "outputId": "b513573c-4d07-451c-d59b-893fec20c847"
      },
      "execution_count": null,
      "outputs": [
        {
          "output_type": "execute_result",
          "data": {
            "text/html": [
              "\n",
              "  <div id=\"df-015a79af-8cb7-4d9e-80b8-5cf0074c08ca\">\n",
              "    <div class=\"colab-df-container\">\n",
              "      <div>\n",
              "<style scoped>\n",
              "    .dataframe tbody tr th:only-of-type {\n",
              "        vertical-align: middle;\n",
              "    }\n",
              "\n",
              "    .dataframe tbody tr th {\n",
              "        vertical-align: top;\n",
              "    }\n",
              "\n",
              "    .dataframe thead th {\n",
              "        text-align: right;\n",
              "    }\n",
              "</style>\n",
              "<table border=\"1\" class=\"dataframe\">\n",
              "  <thead>\n",
              "    <tr style=\"text-align: right;\">\n",
              "      <th></th>\n",
              "      <th>total_male</th>\n",
              "      <th>total_female</th>\n",
              "      <th>night_mainland</th>\n",
              "      <th>night_zanzibar</th>\n",
              "      <th>total_cost</th>\n",
              "    </tr>\n",
              "  </thead>\n",
              "  <tbody>\n",
              "    <tr>\n",
              "      <th>0.25</th>\n",
              "      <td>1.0</td>\n",
              "      <td>0.0</td>\n",
              "      <td>2.0</td>\n",
              "      <td>0.0</td>\n",
              "      <td>580125.0</td>\n",
              "    </tr>\n",
              "    <tr>\n",
              "      <th>0.75</th>\n",
              "      <td>1.0</td>\n",
              "      <td>1.0</td>\n",
              "      <td>10.0</td>\n",
              "      <td>3.0</td>\n",
              "      <td>7458750.0</td>\n",
              "    </tr>\n",
              "  </tbody>\n",
              "</table>\n",
              "</div>\n",
              "      <button class=\"colab-df-convert\" onclick=\"convertToInteractive('df-015a79af-8cb7-4d9e-80b8-5cf0074c08ca')\"\n",
              "              title=\"Convert this dataframe to an interactive table.\"\n",
              "              style=\"display:none;\">\n",
              "        \n",
              "  <svg xmlns=\"http://www.w3.org/2000/svg\" height=\"24px\"viewBox=\"0 0 24 24\"\n",
              "       width=\"24px\">\n",
              "    <path d=\"M0 0h24v24H0V0z\" fill=\"none\"/>\n",
              "    <path d=\"M18.56 5.44l.94 2.06.94-2.06 2.06-.94-2.06-.94-.94-2.06-.94 2.06-2.06.94zm-11 1L8.5 8.5l.94-2.06 2.06-.94-2.06-.94L8.5 2.5l-.94 2.06-2.06.94zm10 10l.94 2.06.94-2.06 2.06-.94-2.06-.94-.94-2.06-.94 2.06-2.06.94z\"/><path d=\"M17.41 7.96l-1.37-1.37c-.4-.4-.92-.59-1.43-.59-.52 0-1.04.2-1.43.59L10.3 9.45l-7.72 7.72c-.78.78-.78 2.05 0 2.83L4 21.41c.39.39.9.59 1.41.59.51 0 1.02-.2 1.41-.59l7.78-7.78 2.81-2.81c.8-.78.8-2.07 0-2.86zM5.41 20L4 18.59l7.72-7.72 1.47 1.35L5.41 20z\"/>\n",
              "  </svg>\n",
              "      </button>\n",
              "      \n",
              "  <style>\n",
              "    .colab-df-container {\n",
              "      display:flex;\n",
              "      flex-wrap:wrap;\n",
              "      gap: 12px;\n",
              "    }\n",
              "\n",
              "    .colab-df-convert {\n",
              "      background-color: #E8F0FE;\n",
              "      border: none;\n",
              "      border-radius: 50%;\n",
              "      cursor: pointer;\n",
              "      display: none;\n",
              "      fill: #1967D2;\n",
              "      height: 32px;\n",
              "      padding: 0 0 0 0;\n",
              "      width: 32px;\n",
              "    }\n",
              "\n",
              "    .colab-df-convert:hover {\n",
              "      background-color: #E2EBFA;\n",
              "      box-shadow: 0px 1px 2px rgba(60, 64, 67, 0.3), 0px 1px 3px 1px rgba(60, 64, 67, 0.15);\n",
              "      fill: #174EA6;\n",
              "    }\n",
              "\n",
              "    [theme=dark] .colab-df-convert {\n",
              "      background-color: #3B4455;\n",
              "      fill: #D2E3FC;\n",
              "    }\n",
              "\n",
              "    [theme=dark] .colab-df-convert:hover {\n",
              "      background-color: #434B5C;\n",
              "      box-shadow: 0px 1px 3px 1px rgba(0, 0, 0, 0.15);\n",
              "      filter: drop-shadow(0px 1px 2px rgba(0, 0, 0, 0.3));\n",
              "      fill: #FFFFFF;\n",
              "    }\n",
              "  </style>\n",
              "\n",
              "      <script>\n",
              "        const buttonEl =\n",
              "          document.querySelector('#df-015a79af-8cb7-4d9e-80b8-5cf0074c08ca button.colab-df-convert');\n",
              "        buttonEl.style.display =\n",
              "          google.colab.kernel.accessAllowed ? 'block' : 'none';\n",
              "\n",
              "        async function convertToInteractive(key) {\n",
              "          const element = document.querySelector('#df-015a79af-8cb7-4d9e-80b8-5cf0074c08ca');\n",
              "          const dataTable =\n",
              "            await google.colab.kernel.invokeFunction('convertToInteractive',\n",
              "                                                     [key], {});\n",
              "          if (!dataTable) return;\n",
              "\n",
              "          const docLinkHtml = 'Like what you see? Visit the ' +\n",
              "            '<a target=\"_blank\" href=https://colab.research.google.com/notebooks/data_table.ipynb>data table notebook</a>'\n",
              "            + ' to learn more about interactive tables.';\n",
              "          element.innerHTML = '';\n",
              "          dataTable['output_type'] = 'display_data';\n",
              "          await google.colab.output.renderOutput(dataTable, element);\n",
              "          const docLink = document.createElement('div');\n",
              "          docLink.innerHTML = docLinkHtml;\n",
              "          element.appendChild(docLink);\n",
              "        }\n",
              "      </script>\n",
              "    </div>\n",
              "  </div>\n",
              "  "
            ],
            "text/plain": [
              "      total_male  total_female  night_mainland  night_zanzibar  total_cost\n",
              "0.25         1.0           0.0             2.0             0.0    580125.0\n",
              "0.75         1.0           1.0            10.0             3.0   7458750.0"
            ]
          },
          "metadata": {},
          "execution_count": 133
        }
      ]
    },
    {
      "cell_type": "code",
      "source": [
        "# Standard Deviation of numerical colums\n",
        "round(tourism_out[cols].std(),3)"
      ],
      "metadata": {
        "colab": {
          "base_uri": "https://localhost:8080/"
        },
        "id": "8ShRZ9b7Idc7",
        "outputId": "e7bdd1a9-03c4-4852-8c92-26754b45baef"
      },
      "execution_count": null,
      "outputs": [
        {
          "output_type": "execute_result",
          "data": {
            "text/plain": [
              "total_male              0.000\n",
              "total_female            0.577\n",
              "night_mainland          5.039\n",
              "night_zanzibar          2.759\n",
              "total_cost        5561955.654\n",
              "dtype: float64"
            ]
          },
          "metadata": {},
          "execution_count": 139
        }
      ]
    },
    {
      "cell_type": "code",
      "source": [
        "# Variance of numerical colums\n",
        "tourism_out[cols].var()"
      ],
      "metadata": {
        "id": "CtKYq-hAIxn8"
      },
      "execution_count": null,
      "outputs": []
    },
    {
      "cell_type": "code",
      "source": [
        "# Skewness of numerical columns\n",
        "tourism_out[cols].skew()"
      ],
      "metadata": {
        "colab": {
          "base_uri": "https://localhost:8080/"
        },
        "id": "_d3HsglLI2BT",
        "outputId": "1b1a37cb-adb9-4a35-c6ba-94965a07d3fa"
      },
      "execution_count": null,
      "outputs": [
        {
          "output_type": "execute_result",
          "data": {
            "text/plain": [
              "total_male        0.000000\n",
              "total_female      0.622976\n",
              "night_mainland    0.969215\n",
              "night_zanzibar    1.281334\n",
              "total_cost        1.380576\n",
              "dtype: float64"
            ]
          },
          "metadata": {},
          "execution_count": 136
        }
      ]
    },
    {
      "cell_type": "markdown",
      "source": [
        "Our data is positively skewed "
      ],
      "metadata": {
        "id": "48_BqoMQJKO4"
      }
    },
    {
      "cell_type": "code",
      "source": [
        "# The Kurtosis of numerical columns\n",
        "tourism_out[cols].kurt()"
      ],
      "metadata": {
        "colab": {
          "base_uri": "https://localhost:8080/"
        },
        "id": "OLpnV7SUI7R7",
        "outputId": "c411e611-f752-41e3-a387-f53cea1d1d63"
      },
      "execution_count": null,
      "outputs": [
        {
          "output_type": "execute_result",
          "data": {
            "text/plain": [
              "total_male        0.000000\n",
              "total_female     -0.591377\n",
              "night_mainland    0.509009\n",
              "night_zanzibar    0.267620\n",
              "total_cost        1.114069\n",
              "dtype: float64"
            ]
          },
          "metadata": {},
          "execution_count": 137
        }
      ]
    },
    {
      "cell_type": "markdown",
      "source": [
        "### Bivariate Analysis"
      ],
      "metadata": {
        "id": "B2mRIBlTJGdr"
      }
    }
  ]
}